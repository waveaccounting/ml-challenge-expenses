{
 "cells": [
  {
   "cell_type": "markdown",
   "metadata": {},
   "source": [
    "# Machine Learning Challenge\n",
    "Prepare train and validation data"
   ]
  },
  {
   "cell_type": "code",
   "execution_count": 1,
   "metadata": {},
   "outputs": [],
   "source": [
    "import numpy as np\n",
    "import argparse\n",
    "import sys\n",
    "import os\n",
    "\n",
    "from data_preparation import *\n",
    "from classifiers import *\n",
    "from utiles import *\n",
    "from main import *"
   ]
  },
  {
   "cell_type": "code",
   "execution_count": 2,
   "metadata": {},
   "outputs": [],
   "source": [
    "# Read csv files\n",
    "training_data_example = os.path.normpath(\"./training_data_example.csv\")\n",
    "validation_data_example = os.path.normpath(\"./validation_data_example.csv\")\n",
    "employee = os.path.normpath(\"./employee.csv\")"
   ]
  },
  {
   "cell_type": "code",
   "execution_count": 3,
   "metadata": {},
   "outputs": [],
   "source": [
    "# Prepare training data\n",
    "train = PrepareDataset(training_data_example, employee)\n",
    "x_train = train.create_features()\n",
    "y_train_one_hot = train.create_targets()"
   ]
  },
  {
   "cell_type": "code",
   "execution_count": 4,
   "metadata": {},
   "outputs": [],
   "source": [
    "# Prepare validation data\n",
    "validation = PrepareDataset(validation_data_example, employee, phase=\"Validation\")\n",
    "x_validation = validation.create_features()\n",
    "y_validation_one_hot = validation.create_targets()"
   ]
  },
  {
   "cell_type": "code",
   "execution_count": 5,
   "metadata": {},
   "outputs": [],
   "source": [
    "# align train and validation data-frames to fill the missing features and labels\n",
    "x_train, x_validation = x_train.align(x_validation, axis=1, fill_value=0)\n",
    "y_train_one_hot, y_validation_one_hot = y_train_one_hot.align(y_validation_one_hot, axis=1, fill_value=0)"
   ]
  },
  {
   "cell_type": "code",
   "execution_count": 6,
   "metadata": {},
   "outputs": [],
   "source": [
    "# Get the array of features and labels from data frames\n",
    "x_train, y_train_one_hot = x_train.values, y_train_one_hot.values\n",
    "x_validation, y_validation_one_hot = x_validation.values, y_validation_one_hot.values"
   ]
  },
  {
   "cell_type": "code",
   "execution_count": 7,
   "metadata": {},
   "outputs": [],
   "source": [
    "# Decode labels\n",
    "y_train = [np.where(r == 1)[0][0] for r in y_train_one_hot]\n",
    "y_validation = [np.where(r == 1)[0][0] for r in y_validation_one_hot]"
   ]
  },
  {
   "cell_type": "markdown",
   "metadata": {},
   "source": [
    "## Question 1:\n",
    "Train a learning model that assigns each expense transaction to one of the set of predefined categories and evaluate it against the validation data provided.  The set of categories are those found in the \"category\" column in the training data. Report on accuracy and at least one other performance metric."
   ]
  },
  {
   "cell_type": "code",
   "execution_count": 8,
   "metadata": {},
   "outputs": [
    {
     "name": "stdout",
     "output_type": "stream",
     "text": [
      "Classification results of KNN: \n",
      ">> Training Accuracy = 1.00 \n",
      "             precision    recall  f1-score   support\n",
      "\n",
      "          0       1.00      1.00      1.00         3\n",
      "          1       1.00      1.00      1.00         4\n",
      "          2       1.00      1.00      1.00        10\n",
      "          3       1.00      1.00      1.00         1\n",
      "          4       1.00      1.00      1.00         6\n",
      "\n",
      "avg / total       1.00      1.00      1.00        24\n",
      " \n",
      ">> Validation Accuracy = 0.67 \n",
      "             precision    recall  f1-score   support\n",
      "\n",
      "          0       1.00      1.00      1.00         1\n",
      "          1       0.00      0.00      0.00         0\n",
      "          2       0.86      0.86      0.86         7\n",
      "          3       0.00      0.00      0.00         2\n",
      "          4       1.00      0.50      0.67         2\n",
      "\n",
      "avg / total       0.75      0.67      0.69        12\n",
      " \n",
      "-------------------------------------------------------\n",
      "\n",
      "Classification results of Random Forest: \n",
      ">> Training Accuracy = 0.92 \n",
      "             precision    recall  f1-score   support\n",
      "\n",
      "          0       0.75      1.00      0.86         3\n",
      "          1       1.00      1.00      1.00         4\n",
      "          2       1.00      0.90      0.95        10\n",
      "          3       1.00      1.00      1.00         1\n",
      "          4       0.83      0.83      0.83         6\n",
      "\n",
      "avg / total       0.93      0.92      0.92        24\n",
      " \n",
      ">> Validation Accuracy = 0.83 \n",
      "             precision    recall  f1-score   support\n",
      "\n",
      "          0       1.00      1.00      1.00         1\n",
      "          2       0.78      1.00      0.88         7\n",
      "          3       0.00      0.00      0.00         2\n",
      "          4       1.00      1.00      1.00         2\n",
      "\n",
      "avg / total       0.70      0.83      0.76        12\n",
      " \n",
      "-------------------------------------------------------\n",
      "\n",
      "Classification results of SVM: \n",
      ">> Training Accuracy = 0.92 \n",
      "             precision    recall  f1-score   support\n",
      "\n",
      "          0       1.00      0.67      0.80         3\n",
      "          1       1.00      1.00      1.00         4\n",
      "          2       1.00      1.00      1.00        10\n",
      "          3       0.00      0.00      0.00         1\n",
      "          4       0.75      1.00      0.86         6\n",
      "\n",
      "avg / total       0.90      0.92      0.90        24\n",
      " \n",
      ">> Validation Accuracy = 0.67 \n",
      "             precision    recall  f1-score   support\n",
      "\n",
      "          0       0.00      0.00      0.00         1\n",
      "          2       0.64      1.00      0.78         7\n",
      "          3       0.00      0.00      0.00         2\n",
      "          4       1.00      0.50      0.67         2\n",
      "\n",
      "avg / total       0.54      0.67      0.56        12\n",
      " \n",
      "-------------------------------------------------------\n",
      "\n",
      "Classification results of Logistic Regression: \n",
      ">> Training Accuracy = 1.00 \n",
      "             precision    recall  f1-score   support\n",
      "\n",
      "          0       1.00      1.00      1.00         3\n",
      "          1       1.00      1.00      1.00         4\n",
      "          2       1.00      1.00      1.00        10\n",
      "          3       1.00      1.00      1.00         1\n",
      "          4       1.00      1.00      1.00         6\n",
      "\n",
      "avg / total       1.00      1.00      1.00        24\n",
      " \n",
      ">> Validation Accuracy = 0.83 \n",
      "             precision    recall  f1-score   support\n",
      "\n",
      "          0       0.00      0.00      0.00         1\n",
      "          2       0.88      1.00      0.93         7\n",
      "          3       1.00      0.50      0.67         2\n",
      "          4       0.67      1.00      0.80         2\n",
      "\n",
      "avg / total       0.79      0.83      0.79        12\n",
      " \n",
      "-------------------------------------------------------\n",
      "\n"
     ]
    },
    {
     "name": "stderr",
     "output_type": "stream",
     "text": [
      "/Library/Frameworks/Python.framework/Versions/3.6/lib/python3.6/site-packages/sklearn/metrics/classification.py:1135: UndefinedMetricWarning: Precision and F-score are ill-defined and being set to 0.0 in labels with no predicted samples.\n",
      "  'precision', 'predicted', average, warn_for)\n",
      "/Library/Frameworks/Python.framework/Versions/3.6/lib/python3.6/site-packages/sklearn/metrics/classification.py:1137: UndefinedMetricWarning: Recall and F-score are ill-defined and being set to 0.0 in labels with no true samples.\n",
      "  'recall', 'true', average, warn_for)\n"
     ]
    }
   ],
   "source": [
    "# call function from main.py\n",
    "model_part_1(x_train, y_train, x_validation, y_validation)"
   ]
  },
  {
   "cell_type": "markdown",
   "metadata": {},
   "source": [
    "## Question 2: \n",
    "Mixing of personal and business expenses is a common problem for small business.  Create an algorithm that can separate any potential personal expenses in the training data.  Labels of personal and business expenses were deliberately not given as this is often the case in our system.  There is no right answer so it is important you provide any assumptions you have made."
   ]
  },
  {
   "cell_type": "code",
   "execution_count": 9,
   "metadata": {},
   "outputs": [
    {
     "data": {
      "image/png": "[encoded data removed]",
      "text/plain": [
       "<Figure size 432x288 with 1 Axes>"
      ]
     },
     "metadata": {},
     "output_type": "display_data"
    },
    {
     "data": {
      "image/png": "[encoded data removed]",
      "text/plain": [
       "<Figure size 432x288 with 1 Axes>"
      ]
     },
     "metadata": {},
     "output_type": "display_data"
    }
   ],
   "source": [
    "# call function from main.py\n",
    "model_part_2(x_train, x_validation)"
   ]
  }
 ],
 "metadata": {
  "kernelspec": {
   "display_name": "Python 3",
   "language": "python",
   "name": "python3"
  },
  "language_info": {
   "codemirror_mode": {
    "name": "ipython",
    "version": 3
   },
   "file_extension": ".py",
   "mimetype": "text/x-python",
   "name": "python",
   "nbconvert_exporter": "python",
   "pygments_lexer": "ipython3",
   "version": "3.6.5"
  }
 },
 "nbformat": 4,
 "nbformat_minor": 2
}
