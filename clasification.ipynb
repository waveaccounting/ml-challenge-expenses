{
 "cells": [
  {
   "cell_type": "markdown",
   "metadata": {},
   "source": [
    "# Classification"
   ]
  },
  {
   "cell_type": "markdown",
   "metadata": {},
   "source": [
    "The classification solution tries to address the problem:\n",
    "\n",
    "*Train a learning model that assigns each expense transaction to one of the set of predefined categories and evaluate it against the validation data provided. The set of categories are those found in the \"category\" column in the training data. Report on accuracy and at least one other performance metric.*\n",
    "\n",
    "For this, my approach is to first load the data, do a bit of exploratory analysis, and then apply several classifiers (Logistic Regression, Naive Bayes, SVM, XGBoost, Random Forest) on the data, so performance evaluation and see which (or a combination of which) performs the best. We will try ensembling several classifiers since ensembles are known to perform better in general."
   ]
  },
  {
   "cell_type": "markdown",
   "metadata": {},
   "source": [
    "## Necessary imports"
   ]
  },
  {
   "cell_type": "code",
   "execution_count": 1,
   "metadata": {},
   "outputs": [],
   "source": [
    "import pandas as pd\n",
    "import numpy as np\n",
    "from collections import Counter\n",
    "import itertools\n",
    "\n",
    "from sklearn import preprocessing\n",
    "from sklearn.preprocessing import LabelEncoder\n",
    "from sklearn.linear_model import LogisticRegression\n",
    "from sklearn.feature_extraction.text import CountVectorizer, TfidfVectorizer\n",
    "from sklearn.feature_extraction.text import TfidfTransformer\n",
    "from sklearn.naive_bayes import GaussianNB, MultinomialNB\n",
    "from sklearn.neighbors import KNeighborsClassifier\n",
    "from sklearn import svm\n",
    "from xgboost import XGBClassifier\n",
    "from sklearn.ensemble import RandomForestClassifier\n",
    "from sklearn.model_selection import GridSearchCV, LeaveOneOut\n",
    "from sklearn.metrics import classification_report\n",
    "from sklearn.cluster import KMeans\n",
    "\n",
    "import matplotlib.pyplot as plt\n",
    "%matplotlib inline\n",
    "from sklearn.metrics import confusion_matrix"
   ]
  },
  {
   "cell_type": "markdown",
   "metadata": {},
   "source": [
    "## Load data from CSV to pandas dataframes"
   ]
  },
  {
   "cell_type": "code",
   "execution_count": 2,
   "metadata": {},
   "outputs": [],
   "source": [
    "df_train = pd.read_csv('training_data_example.csv')\n",
    "df_val = pd.read_csv('validation_data_example.csv')\n",
    "df_employee = pd.read_csv('employee.csv')"
   ]
  },
  {
   "cell_type": "code",
   "execution_count": 3,
   "metadata": {},
   "outputs": [],
   "source": [
    "df_employee['city'] = df_employee['employee address'].apply(lambda x: x.split(',')[1])"
   ]
  },
  {
   "cell_type": "markdown",
   "metadata": {},
   "source": [
    "# Preprocessing and Observations for feature engineering\n",
    "\n",
    "We will join Employee data with both Training and Validation data separately to get possibly useful information from the Employee data set. Some useful observations:\n",
    "\n",
    "- **Role** and **Address** are useful information in Employee. We can extract the **city** information from the address, however the **tax name** informtion already contains province/country so we can do with that. \n",
    "- **date** is a useful information. However, it will possibly be better if we extract the **month** and **day of week** from the day. It's possible that people have certain expending habits on certain months or on certain days of weeks (like weekends).\n",
    "- Perhaps the most useful piece of data for tackling this problem is the **expense description** field. Intuitively, an expense category should have the biggest correlation with this field than any other field, however, thata ssumption is not necessarily true in practice.\n",
    "- **expense description** is a free form text field whereas all other fields are numerical/categorical. So it makes sense to vectorize and analyze this field separately and later combine with other features.\n",
    "\n",
    "So we will first exclude the **expense description** field from our preprocessing step, and vectorize the rest of the useful fields, which are:\n",
    "\n",
    "- day_of_week\n",
    "- month\n",
    "- employee id\n",
    "- pre-tax amount\n",
    "- role\n",
    "\n",
    "As part of this we will also **one-hot encode** the categorical variables (the ones other than **pre-tax amount**)\n",
    "\n",
    "Also, since pre-tax amount is a real valued continuous variable, we will scale it to 0-1 as a means of feature normalization, to avoid any bias in classification for this large valued field.\n",
    "\n",
    "Let's define a method for preprocessing."
   ]
  },
  {
   "cell_type": "code",
   "execution_count": 4,
   "metadata": {},
   "outputs": [],
   "source": [
    "def pre_process(df, columns_to_drop=['date',\n",
    "                                    'category', \n",
    "                                    'tax amount',                                  \n",
    "                                    'expense description']):\n",
    "    \n",
    "    df['day_of_week'] = pd.to_datetime(df['date']).apply(lambda x: x.weekday()).astype(str) # str so that treated as categoical\n",
    "    df['month'] = pd.to_datetime(df['date']).apply(lambda x: x.month).astype(str)\n",
    "    df = pd.merge(df, df_employee[['employee id', 'role']], how='inner', on=['employee id'])\n",
    "    df['employee id'] = df['employee id'].astype(str)\n",
    "    df = df.drop(columns_to_drop, axis=1)\n",
    "    \n",
    "    # one-hot encode the categorical variables\n",
    "    df = pd.get_dummies(df)\n",
    "    \n",
    "    df['pre-tax amount'] = preprocessing.minmax_scale(df[['pre-tax amount']])\n",
    "    \n",
    "    return df"
   ]
  },
  {
   "cell_type": "markdown",
   "metadata": {},
   "source": [
    "Now obtain the preprocessed training and validation data and and fix any alignment issues and missing values in the validation data."
   ]
  },
  {
   "cell_type": "code",
   "execution_count": 5,
   "metadata": {},
   "outputs": [],
   "source": [
    "x_train = pre_process(df_train)\n",
    "x_val = pre_process(df_val)\n",
    "x_train, x_val = x_train.align(x_val, join='left', axis=1)\n",
    "x_val = x_val.fillna(0)"
   ]
  },
  {
   "cell_type": "code",
   "execution_count": 6,
   "metadata": {},
   "outputs": [
    {
     "data": {
      "text/html": [
       "<div>\n",
       "<style scoped>\n",
       "    .dataframe tbody tr th:only-of-type {\n",
       "        vertical-align: middle;\n",
       "    }\n",
       "\n",
       "    .dataframe tbody tr th {\n",
       "        vertical-align: top;\n",
       "    }\n",
       "\n",
       "    .dataframe thead th {\n",
       "        text-align: right;\n",
       "    }\n",
       "</style>\n",
       "<table border=\"1\" class=\"dataframe\">\n",
       "  <thead>\n",
       "    <tr style=\"text-align: right;\">\n",
       "      <th></th>\n",
       "      <th>pre-tax amount</th>\n",
       "      <th>employee id_1</th>\n",
       "      <th>employee id_3</th>\n",
       "      <th>employee id_4</th>\n",
       "      <th>employee id_5</th>\n",
       "      <th>employee id_6</th>\n",
       "      <th>employee id_7</th>\n",
       "      <th>tax name_CA Sales tax</th>\n",
       "      <th>tax name_NY Sales tax</th>\n",
       "      <th>day_of_week_0</th>\n",
       "      <th>...</th>\n",
       "      <th>day_of_week_5</th>\n",
       "      <th>day_of_week_6</th>\n",
       "      <th>month_10</th>\n",
       "      <th>month_11</th>\n",
       "      <th>month_12</th>\n",
       "      <th>month_9</th>\n",
       "      <th>role_CEO</th>\n",
       "      <th>role_Engineer</th>\n",
       "      <th>role_IT and Admin</th>\n",
       "      <th>role_Sales</th>\n",
       "    </tr>\n",
       "  </thead>\n",
       "  <tbody>\n",
       "    <tr>\n",
       "      <th>0</th>\n",
       "      <td>0.004514</td>\n",
       "      <td>0</td>\n",
       "      <td>0.0</td>\n",
       "      <td>0</td>\n",
       "      <td>0.0</td>\n",
       "      <td>0</td>\n",
       "      <td>1</td>\n",
       "      <td>0</td>\n",
       "      <td>1</td>\n",
       "      <td>0</td>\n",
       "      <td>...</td>\n",
       "      <td>0</td>\n",
       "      <td>0</td>\n",
       "      <td>0</td>\n",
       "      <td>1</td>\n",
       "      <td>0</td>\n",
       "      <td>0</td>\n",
       "      <td>0</td>\n",
       "      <td>0</td>\n",
       "      <td>0.0</td>\n",
       "      <td>1</td>\n",
       "    </tr>\n",
       "    <tr>\n",
       "      <th>1</th>\n",
       "      <td>0.055918</td>\n",
       "      <td>1</td>\n",
       "      <td>0.0</td>\n",
       "      <td>0</td>\n",
       "      <td>0.0</td>\n",
       "      <td>0</td>\n",
       "      <td>0</td>\n",
       "      <td>1</td>\n",
       "      <td>0</td>\n",
       "      <td>0</td>\n",
       "      <td>...</td>\n",
       "      <td>1</td>\n",
       "      <td>0</td>\n",
       "      <td>0</td>\n",
       "      <td>1</td>\n",
       "      <td>0</td>\n",
       "      <td>0</td>\n",
       "      <td>1</td>\n",
       "      <td>0</td>\n",
       "      <td>0.0</td>\n",
       "      <td>0</td>\n",
       "    </tr>\n",
       "    <tr>\n",
       "      <th>2</th>\n",
       "      <td>0.047141</td>\n",
       "      <td>1</td>\n",
       "      <td>0.0</td>\n",
       "      <td>0</td>\n",
       "      <td>0.0</td>\n",
       "      <td>0</td>\n",
       "      <td>0</td>\n",
       "      <td>1</td>\n",
       "      <td>0</td>\n",
       "      <td>1</td>\n",
       "      <td>...</td>\n",
       "      <td>0</td>\n",
       "      <td>0</td>\n",
       "      <td>0</td>\n",
       "      <td>1</td>\n",
       "      <td>0</td>\n",
       "      <td>0</td>\n",
       "      <td>1</td>\n",
       "      <td>0</td>\n",
       "      <td>0.0</td>\n",
       "      <td>0</td>\n",
       "    </tr>\n",
       "    <tr>\n",
       "      <th>3</th>\n",
       "      <td>1.000000</td>\n",
       "      <td>0</td>\n",
       "      <td>0.0</td>\n",
       "      <td>1</td>\n",
       "      <td>0.0</td>\n",
       "      <td>0</td>\n",
       "      <td>0</td>\n",
       "      <td>1</td>\n",
       "      <td>0</td>\n",
       "      <td>0</td>\n",
       "      <td>...</td>\n",
       "      <td>0</td>\n",
       "      <td>0</td>\n",
       "      <td>0</td>\n",
       "      <td>0</td>\n",
       "      <td>0</td>\n",
       "      <td>1</td>\n",
       "      <td>0</td>\n",
       "      <td>0</td>\n",
       "      <td>0.0</td>\n",
       "      <td>1</td>\n",
       "    </tr>\n",
       "    <tr>\n",
       "      <th>4</th>\n",
       "      <td>0.002006</td>\n",
       "      <td>0</td>\n",
       "      <td>0.0</td>\n",
       "      <td>1</td>\n",
       "      <td>0.0</td>\n",
       "      <td>0</td>\n",
       "      <td>0</td>\n",
       "      <td>1</td>\n",
       "      <td>0</td>\n",
       "      <td>0</td>\n",
       "      <td>...</td>\n",
       "      <td>0</td>\n",
       "      <td>0</td>\n",
       "      <td>0</td>\n",
       "      <td>0</td>\n",
       "      <td>0</td>\n",
       "      <td>1</td>\n",
       "      <td>0</td>\n",
       "      <td>0</td>\n",
       "      <td>0.0</td>\n",
       "      <td>1</td>\n",
       "    </tr>\n",
       "  </tbody>\n",
       "</table>\n",
       "<p>5 rows × 24 columns</p>\n",
       "</div>"
      ],
      "text/plain": [
       "   pre-tax amount  employee id_1  employee id_3  employee id_4  employee id_5  \\\n",
       "0        0.004514              0            0.0              0            0.0   \n",
       "1        0.055918              1            0.0              0            0.0   \n",
       "2        0.047141              1            0.0              0            0.0   \n",
       "3        1.000000              0            0.0              1            0.0   \n",
       "4        0.002006              0            0.0              1            0.0   \n",
       "\n",
       "   employee id_6  employee id_7  tax name_CA Sales tax  tax name_NY Sales tax  \\\n",
       "0              0              1                      0                      1   \n",
       "1              0              0                      1                      0   \n",
       "2              0              0                      1                      0   \n",
       "3              0              0                      1                      0   \n",
       "4              0              0                      1                      0   \n",
       "\n",
       "   day_of_week_0     ...      day_of_week_5  day_of_week_6  month_10  \\\n",
       "0              0     ...                  0              0         0   \n",
       "1              0     ...                  1              0         0   \n",
       "2              1     ...                  0              0         0   \n",
       "3              0     ...                  0              0         0   \n",
       "4              0     ...                  0              0         0   \n",
       "\n",
       "   month_11  month_12  month_9  role_CEO  role_Engineer  role_IT and Admin  \\\n",
       "0         1         0        0         0              0                0.0   \n",
       "1         1         0        0         1              0                0.0   \n",
       "2         1         0        0         1              0                0.0   \n",
       "3         0         0        1         0              0                0.0   \n",
       "4         0         0        1         0              0                0.0   \n",
       "\n",
       "   role_Sales  \n",
       "0           1  \n",
       "1           0  \n",
       "2           0  \n",
       "3           1  \n",
       "4           1  \n",
       "\n",
       "[5 rows x 24 columns]"
      ]
     },
     "execution_count": 6,
     "metadata": {},
     "output_type": "execute_result"
    }
   ],
   "source": [
    "x_val.head()"
   ]
  },
  {
   "cell_type": "markdown",
   "metadata": {},
   "source": [
    "Now for the text field **expense description**, we vectorize it using **TFIdfVectorizer**. Although the vectorizer provides a sparse matrix, we densify it so that we can merge it to the non-text features based vectorized data obtained previously."
   ]
  },
  {
   "cell_type": "code",
   "execution_count": 7,
   "metadata": {},
   "outputs": [],
   "source": [
    "vectorizer = TfidfVectorizer(stop_words='english')\n",
    "vectorizer.fit(df_train['expense description'])\n",
    "x_train_tfidf = vectorizer.transform(df_train['expense description']).toarray()\n",
    "x_val_tfidf = vectorizer.transform(df_val['expense description']).toarray()"
   ]
  },
  {
   "cell_type": "markdown",
   "metadata": {},
   "source": [
    "Now concatenate the text and non-text features to get the final vectorized datasets."
   ]
  },
  {
   "cell_type": "code",
   "execution_count": 8,
   "metadata": {},
   "outputs": [],
   "source": [
    "x_train = np.concatenate((x_train.values, x_train_tfidf), axis=1)\n",
    "x_val = np.concatenate((x_val.values, x_val_tfidf), axis=1)"
   ]
  },
  {
   "cell_type": "markdown",
   "metadata": {},
   "source": [
    "Now labelize the **categories** of the training and validation data."
   ]
  },
  {
   "cell_type": "code",
   "execution_count": 9,
   "metadata": {},
   "outputs": [
    {
     "data": {
      "text/plain": [
       "array(['Computer - Hardware', 'Computer - Software',\n",
       "       'Meals and Entertainment', 'Office Supplies', 'Travel'], dtype=object)"
      ]
     },
     "execution_count": 9,
     "metadata": {},
     "output_type": "execute_result"
    }
   ],
   "source": [
    "lencoder = LabelEncoder()\n",
    "lencoder.fit(df_train['category'])\n",
    "names = set(df_val['category']) # label names to be used later\n",
    "y_train = lencoder.transform(df_train['category'])\n",
    "y_val = lencoder.transform(df_val['category'])\n",
    "val_categoroes = []\n",
    "for clazz in lencoder.classes_:\n",
    "    if clazz in names:\n",
    "        val_categoroes.append(clazz)\n",
    "lencoder.classes_"
   ]
  },
  {
   "cell_type": "markdown",
   "metadata": {},
   "source": [
    "## Observation on the category distribution and possible performatce metric\n",
    "\n",
    "Interestingly, it turns out that the distribution of the **category** variable is not even. It's pretty skewed as is evident from the flowwing figure. The distrbution is largely dominated by **Meals and Entertainment** followed by others, which is an indication that **accuracy** alone is not going to be a reliable performance metric. We will compute **precision**, **recall** and **f1 score** mesurements on the result."
   ]
  },
  {
   "cell_type": "code",
   "execution_count": 10,
   "metadata": {},
   "outputs": [
    {
     "data": {
      "image/png": "[encoded data removed]",
      "text/plain": [
       "<Figure size 432x288 with 1 Axes>"
      ]
     },
     "metadata": {},
     "output_type": "display_data"
    }
   ],
   "source": [
    "f = pd.value_counts(df_train['category']).plot.bar()"
   ]
  },
  {
   "cell_type": "markdown",
   "metadata": {},
   "source": [
    "So now that we have the vectorized features ready, it's time to train and evaluate performance."
   ]
  },
  {
   "cell_type": "markdown",
   "metadata": {},
   "source": [
    "## Model fitting and evaluation\n",
    "\n",
    "Our plan is to try out the following classifiers and then ensemble them at the end if possible:\n",
    "- Logistic Regression\n",
    "- Multinomial Naive Bayes\n",
    "- SVM\n",
    "- Gradient Boosting (XGBoost)\n",
    "- Random Forest\n",
    "\n",
    "For each of these, we will try out fitting the models on the training set in a two fold approach - with and without **cross validation**. Also, as mentioned earlier, since the **expense description** field is intuitively the most expressive field, we will be fitting the models in 2 ways - all features and only the text features. So overall, we will be fitting each model 4 times:\n",
    "- All features and no cross validation\n",
    "- All features with cross validation\n",
    "- Only text features and no cross validation\n",
    "- Only text features with cross validation\n",
    "\n",
    "And finally will be taking the one of these that performs best on the validation data. Since the datasets are small, we will be using **Leave one out** cross validation. For cross validation purpose, we will be using **GridSearchCV** to try out different combinations of parameters. (These combinations are not exhaustive, of course, I will only try out a few)\n",
    "\n",
    "Let's define a general purpose method that can fitting and scoring for the above 4 scenarios."
   ]
  },
  {
   "cell_type": "code",
   "execution_count": 11,
   "metadata": {},
   "outputs": [],
   "source": [
    "def evaluate(model, x_train, y_train, x_val, y_val, cross_validate=False, grid_search_params={}):\n",
    "    if cross_validate:\n",
    "        grid_search_model = GridSearchCV(estimator=model,\n",
    "                                          cv=LeaveOneOut(),\n",
    "                                          param_grid=grid_search_params, \n",
    "                                          verbose=0)\n",
    "        grid_search_model.fit(x_train, y_train)\n",
    "        return (grid_search_model.best_estimator_.score(x_train, y_train),\n",
    "                grid_search_model.best_estimator_.score(x_val, y_val),\n",
    "                grid_search_model.best_estimator_.predict(x_val),\n",
    "                grid_search_model.best_estimator_)\n",
    "    else:\n",
    "        model.fit(x_train, y_train)\n",
    "        return (model.score(x_train, y_train), model.score(x_val, y_val), model.predict(x_val), 0)   "
   ]
  },
  {
   "cell_type": "markdown",
   "metadata": {},
   "source": [
    "Now let's define the set of models along with the parameter combinations that will be used for grid search. The paramter combinations I am using for different models are:\n",
    "- LogicticRegression\n",
    "    - C (Regularization factor)\n",
    "- MultinomialNB\n",
    "    - alpha (Regularization factor)\n",
    "- SVM\n",
    "    - C (Regularization factor)\n",
    "- XGBoost\n",
    "    - max depth\n",
    "    - Learning rate\n",
    "    - subsample (Subsample ratio of the training instance.)\n",
    "    - colsample_bytree (Subsample ratio of columns when constructing each tree)\n",
    "    - reg_alpha (L1 regularization term on weights)\n",
    "- Random Forest\n",
    "    - n_estimators (number of trees)"
   ]
  },
  {
   "cell_type": "code",
   "execution_count": 12,
   "metadata": {},
   "outputs": [],
   "source": [
    "models = [\n",
    "     {\n",
    "        'name': 'LogisticRegression',\n",
    "        'model': LogisticRegression(),\n",
    "        'grid_search_params': {'C':[2,1,0.5]}\n",
    "     },\n",
    "     {\n",
    "        'name': 'MultinomialNB',\n",
    "        'model': MultinomialNB(),\n",
    "        'grid_search_params': {'alpha':[2,1,0.5]} \n",
    "     },\n",
    "     {\n",
    "        'name': 'SVM',\n",
    "        'model': svm.SVC(kernel='linear', random_state=1),\n",
    "        'grid_search_params': {'C':[2,1,0.5]} \n",
    "     },\n",
    "     {\n",
    "        'name': 'XGBoost',\n",
    "        'model': XGBClassifier(objective='multi:softmax', \n",
    "                               num_class=len(set(y_train)),\n",
    "                               random_state=1),\n",
    "        'grid_search_params': {'max_depth': [3,5,7],\n",
    "                               'learning_rate': [0.001,0.01,0.1],\n",
    "                               'subsample':[0.5,1],\n",
    "                               'colsample_bytree':[0.5,0.7,1],\n",
    "                               'reg_alpha':[0,1,2]\n",
    "                             }\n",
    "     },\n",
    "     {\n",
    "        'name': 'RandomForest',\n",
    "        'model': RandomForestClassifier(n_estimators=50, random_state=1),\n",
    "        'grid_search_params': {'n_estimators': [10,25,50,100,200,300]}\n",
    "     }\n",
    "]"
   ]
  },
  {
   "cell_type": "markdown",
   "metadata": {},
   "source": [
    "Let's fit and evaluate all the models and see the results"
   ]
  },
  {
   "cell_type": "code",
   "execution_count": 13,
   "metadata": {},
   "outputs": [
    {
     "name": "stdout",
     "output_type": "stream",
     "text": [
      "LogisticRegression\n",
      "\n",
      "Training score with all features and no cross validation: 1.0\n",
      "Validation score with all features and no cross validation: 0.75\n",
      "Training score with all features and cross validation: 1.0\n",
      "Validation score with all features and cross validation: 0.8333333333333334\n",
      "Training score with only text (description) feature and no cross validation: 0.9583333333333334\n",
      "Validation score with only text (description) feature and no cross validation: 0.8333333333333334\n",
      "Training score with only text (description) feature and cross validation: 1.0\n",
      "Validation score with only text (description) feature and cross validation: 0.9166666666666666\n",
      "\n",
      "MultinomialNB\n",
      "\n",
      "Training score with all features and no cross validation: 0.9166666666666666\n",
      "Validation score with all features and no cross validation: 0.75\n",
      "Training score with all features and cross validation: 0.9166666666666666\n",
      "Validation score with all features and cross validation: 0.75\n",
      "Training score with only text (description) feature and no cross validation: 0.9166666666666666\n",
      "Validation score with only text (description) feature and no cross validation: 0.8333333333333334\n",
      "Training score with only text (description) feature and cross validation: 0.9583333333333334\n",
      "Validation score with only text (description) feature and cross validation: 0.8333333333333334\n",
      "\n",
      "SVM\n",
      "\n",
      "Training score with all features and no cross validation: 1.0\n",
      "Validation score with all features and no cross validation: 0.8333333333333334\n",
      "Training score with all features and cross validation: 1.0\n",
      "Validation score with all features and cross validation: 0.8333333333333334\n",
      "Training score with only text (description) feature and no cross validation: 1.0\n",
      "Validation score with only text (description) feature and no cross validation: 0.9166666666666666\n",
      "Training score with only text (description) feature and cross validation: 1.0\n",
      "Validation score with only text (description) feature and cross validation: 0.9166666666666666\n",
      "\n",
      "XGBoost\n",
      "\n",
      "Training score with all features and no cross validation: 1.0\n",
      "Validation score with all features and no cross validation: 0.6666666666666666\n",
      "Training score with all features and cross validation: 0.875\n",
      "Validation score with all features and cross validation: 0.6666666666666666\n",
      "Training score with only text (description) feature and no cross validation: 0.6666666666666666\n",
      "Validation score with only text (description) feature and no cross validation: 0.6666666666666666\n",
      "Training score with only text (description) feature and cross validation: 0.5416666666666666\n",
      "Validation score with only text (description) feature and cross validation: 0.6666666666666666\n",
      "\n",
      "RandomForest\n",
      "\n",
      "Training score with all features and no cross validation: 1.0\n",
      "Validation score with all features and no cross validation: 0.75\n",
      "Training score with all features and cross validation: 1.0\n",
      "Validation score with all features and cross validation: 0.75\n",
      "Training score with only text (description) feature and no cross validation: 1.0\n",
      "Validation score with only text (description) feature and no cross validation: 0.9166666666666666\n",
      "Training score with only text (description) feature and cross validation: 1.0\n",
      "Validation score with only text (description) feature and cross validation: 0.9166666666666666\n",
      "\n"
     ]
    }
   ],
   "source": [
    "scores = []\n",
    "predictions = []\n",
    "for model in models:\n",
    "    model['scores'] = []\n",
    "    model['predictions'] = []\n",
    "    \n",
    "    print('{}\\n'.format(model['name']))\n",
    "    score_train, score_val, predictions, estimator = evaluate(model['model'], x_train, y_train, x_val, y_val)\n",
    "    model['scores'].append(score_val) \n",
    "    model['predictions'].append(predictions) \n",
    "    print('Training score with all features and no cross validation: {}'.format(score_train))\n",
    "    print('Validation score with all features and no cross validation: {}'.format(score_val))\n",
    "    score_train, score_val, predictions, estimator = evaluate(model['model'], x_train, y_train, x_val, y_val, \n",
    "                                cross_validate=True, grid_search_params=model['grid_search_params'])\n",
    "    model['scores'].append(score_val) \n",
    "    model['predictions'].append(predictions) \n",
    "    print('Training score with all features and cross validation: {}'.format(score_train))\n",
    "    print('Validation score with all features and cross validation: {}'.format(score_val))\n",
    "    \n",
    "    score_train, score_val, predictions, estimator = evaluate(model['model'], x_train_tfidf, y_train, x_val_tfidf, y_val)\n",
    "    model['scores'].append(score_val) \n",
    "    model['predictions'].append(predictions) \n",
    "    print('Training score with only text (description) feature and no cross validation: {}'.format(score_train))\n",
    "    print('Validation score with only text (description) feature and no cross validation: {}'.format(score_val))\n",
    "    score_train, score_val, predictions, estimator = evaluate(model['model'], x_train_tfidf, y_train, x_val_tfidf, y_val, \n",
    "                                cross_validate=True, grid_search_params=model['grid_search_params'])\n",
    "    model['scores'].append(score_val) \n",
    "    model['predictions'].append(predictions) \n",
    "    print('Training score with only text (description) feature and cross validation: {}'.format(score_train))\n",
    "    print('Validation score with only text (description) feature and cross validation: {}\\n'.format(score_val))\n",
    "    \n",
    "    model['best_prediction'] = model['predictions'][np.argmax(model['scores'])]"
   ]
  },
  {
   "cell_type": "markdown",
   "metadata": {},
   "source": [
    "Let's print out the best predictions for each model."
   ]
  },
  {
   "cell_type": "code",
   "execution_count": 14,
   "metadata": {},
   "outputs": [
    {
     "name": "stdout",
     "output_type": "stream",
     "text": [
      "LogisticRegression\n",
      "Best score:0.916666666667\n",
      "Best predictions: [4 2 0 3 2 4 2 2 2 2 2 2]\n",
      "MultinomialNB\n",
      "Best score:0.833333333333\n",
      "Best predictions: [4 2 0 2 2 4 2 2 2 2 2 2]\n",
      "SVM\n",
      "Best score:0.916666666667\n",
      "Best predictions: [4 2 0 3 2 4 2 2 2 2 2 2]\n",
      "XGBoost\n",
      "Best score:0.666666666667\n",
      "Best predictions: [4 2 4 0 4 4 4 2 2 2 2 2]\n",
      "RandomForest\n",
      "Best score:0.916666666667\n",
      "Best predictions: [4 2 0 3 2 4 2 2 2 2 2 2]\n"
     ]
    }
   ],
   "source": [
    "for model in models:\n",
    "    print(model['name'])\n",
    "    print('Best score:' + str(np.max(model['scores']))) \n",
    "    print('Best predictions: ' + str(model['best_prediction']))"
   ]
  },
  {
   "cell_type": "markdown",
   "metadata": {},
   "source": [
    "## Some observations here\n",
    "\n",
    "From the above results, it looks like that except for XGBoost, all other classifiers are performing better using only the test features rather than all features. With Random forest, SVM and Logistic Regression, the training accuracy is 100% and the validation accuracy is 91.67%. With XGBoost (a bit surprisengly to me), while the training accuracy is 100% (using all features and no cross validation), the validation accuracy achieved is only 66.67%. (This is something that deserves further investigation and tuning for sure)\n",
    "\n",
    "## Ensemble\n",
    "Let's try an ensemble of Random forest, SVM and Logistic Regression predictions to get our final predictions."
   ]
  },
  {
   "cell_type": "code",
   "execution_count": 15,
   "metadata": {},
   "outputs": [],
   "source": [
    "def ensemble(preds):\n",
    "    def mode(vals):\n",
    "        counts = dict(Counter(vals))\n",
    "        return sorted(counts.items(), key=lambda x: (x[1], x[0]), reverse=True)[0][0]\n",
    "        \n",
    "    preds = np.vstack(preds)\n",
    "    return np.apply_along_axis(mode, 0, preds)"
   ]
  },
  {
   "cell_type": "code",
   "execution_count": 16,
   "metadata": {},
   "outputs": [
    {
     "name": "stdout",
     "output_type": "stream",
     "text": [
      "Ensemble accuracy: 0.9166666666666666\n"
     ]
    }
   ],
   "source": [
    "ensemble_result = ensemble([models[0]['best_prediction'],\n",
    "                            models[2]['best_prediction'],\n",
    "                            models[4]['best_prediction']])\n",
    "\n",
    "ensemble_accuracy = np.sum(ensemble_result == y_val) / len(y_val)\n",
    "print('Ensemble accuracy: {}'.format(ensemble_accuracy))"
   ]
  },
  {
   "cell_type": "markdown",
   "metadata": {},
   "source": [
    "So the ensemble accuracy is no better that the individual models' accuracy, and that's based on the fact that each of those 3 models were unable to identify the correct category for the same single data point, which is the fifth data point in the validation set, where the actual category is **Office Supplies** but it has been classified as **Meals and Entertainment**."
   ]
  },
  {
   "cell_type": "markdown",
   "metadata": {},
   "source": [
    "Let's get the precision, recall and f1-score:"
   ]
  },
  {
   "cell_type": "code",
   "execution_count": 17,
   "metadata": {},
   "outputs": [
    {
     "name": "stdout",
     "output_type": "stream",
     "text": [
      "                         precision    recall  f1-score   support\n",
      "\n",
      "    Computer - Hardware       1.00      1.00      1.00         1\n",
      "Meals and Entertainment       0.88      1.00      0.93         7\n",
      "        Office Supplies       1.00      0.50      0.67         2\n",
      "                 Travel       1.00      1.00      1.00         2\n",
      "\n",
      "            avg / total       0.93      0.92      0.91        12\n",
      "\n"
     ]
    }
   ],
   "source": [
    "print(classification_report(y_val, ensemble_result, target_names=val_categoroes))"
   ]
  },
  {
   "cell_type": "markdown",
   "metadata": {},
   "source": [
    "Because of the misclassification of the one data point, the recall on the **Office Supplies** is only 0.5 (since there are only 2 data points in this category), and the precision of **Meals and Entertainment** is also lowered to 0.88. However, overall, we seem to have a decent precision and recall of 93% and 92%, respectively.\n",
    "\n",
    "Let's also visualize the confusion matrix, which just conveys the same information a bit more pictorially."
   ]
  },
  {
   "cell_type": "code",
   "execution_count": 18,
   "metadata": {},
   "outputs": [],
   "source": [
    "# This method is just copied from a scikit learn documentation example\n",
    "def plot_confusion_matrix(cm, classes,\n",
    "                          normalize=False,\n",
    "                          title='Confusion matrix',\n",
    "                          cmap=plt.cm.Blues):\n",
    "    \"\"\"\n",
    "    This function prints and plots the confusion matrix.\n",
    "    Normalization can be applied by setting `normalize=True`.\n",
    "    \"\"\"\n",
    "    if normalize:\n",
    "        cm = cm.astype('float') / cm.sum(axis=1)[:, np.newaxis]\n",
    "        print(\"Normalized confusion matrix\")\n",
    "    else:\n",
    "        print('Confusion matrix, without normalization')\n",
    "\n",
    "    print(cm)\n",
    "\n",
    "    plt.imshow(cm, interpolation='nearest', cmap=cmap)\n",
    "    plt.title(title)\n",
    "    plt.colorbar()\n",
    "    tick_marks = np.arange(len(classes))\n",
    "    plt.xticks(tick_marks, classes, rotation=45)\n",
    "    plt.yticks(tick_marks, classes)\n",
    "\n",
    "    fmt = '.2f' if normalize else 'd'\n",
    "    thresh = cm.max() / 2.\n",
    "    for i, j in itertools.product(range(cm.shape[0]), range(cm.shape[1])):\n",
    "        plt.text(j, i, format(cm[i, j], fmt),\n",
    "                 horizontalalignment=\"center\",\n",
    "                 color=\"white\" if cm[i, j] > thresh else \"black\")\n",
    "\n",
    "    plt.tight_layout()\n",
    "    plt.ylabel('True label')\n",
    "    plt.xlabel('Predicted label')"
   ]
  },
  {
   "cell_type": "code",
   "execution_count": 19,
   "metadata": {},
   "outputs": [
    {
     "name": "stdout",
     "output_type": "stream",
     "text": [
      "Confusion matrix, without normalization\n",
      "[[1 0 0 0]\n",
      " [0 7 0 0]\n",
      " [0 1 1 0]\n",
      " [0 0 0 2]]\n"
     ]
    },
    {
     "data": {
      "image/png": "[encoded data removed]",
      "text/plain": [
       "<Figure size 432x288 with 2 Axes>"
      ]
     },
     "metadata": {},
     "output_type": "display_data"
    }
   ],
   "source": [
    "# Compute confusion matrix\n",
    "cnf_matrix = confusion_matrix(y_val, ensemble_result)\n",
    "np.set_printoptions(precision=2)\n",
    "\n",
    "# Plot non-normalized confusion matrix\n",
    "plt.figure()\n",
    "plot_confusion_matrix(cnf_matrix, classes=val_categoroes,\n",
    "                      title='Confusion matrix, without normalization')"
   ]
  },
  {
   "cell_type": "markdown",
   "metadata": {},
   "source": [
    "## Conclusion\n",
    "\n",
    "We have tried several approches for classification with crss-validation and grid-searching, and also tried an ensemble of a few approaches. A few takeaway points for myself:\n",
    "\n",
    "- I had anticipated XGBoost to perform much better. I was quite surprised it didn't. Probably that will be acievable with some further parameter tuning and better feature generation, and more importantly with more data. I am relatively new to XGBoost so I need further insight into this\n",
    "\n",
    "- All classifiers were unable to predict one data point correctly. Even the ensemble didnt help. Probably an indication that better tuning and feature engineering is more necessary that ensembling different approaches.\n",
    "\n",
    "- I have tried to define a general approach of configuring models and parameters and then run them through a generic method, which I believe, could be handy. I have separation of concern in mind and hence I separated the pre-processing, vectorization and prediction steps, and the made the prediction step customizable using configurable models and parameters\n",
    "\n",
    "- Most of the classifiers were at least as good with only text features as with all features.\n",
    "\n",
    "- Random Forest, Logistic regression and SVM all performed pretty well.\n",
    "\n",
    "**Most importantly**\n",
    "\n",
    "**Since there were not enough data, with a bigger dataset, it is possible that these behaviour might change. I have learnt from my experience that models performing well on smaller data are not becessary the best models for real world data with massive size.** \n",
    "\n",
    "\n",
    "My personal preference is to go with ensemble approaches like **Random Forest** and **XGBoost** (although XGBoost didn't perform here as well as expected as pointed out previously), since they have the power of learning from an ensemble of different classifiers (trees), rather than relying on the type of kernel (as in SVM). Also, Scikit learn's Random forest and XGBoost implementation provides a lot of parameters to tune the classifiers.\n",
    "\n",
    "In the Spark based bonus solution, I will try the **Random forest** approach."
   ]
  },
  {
   "cell_type": "code",
   "execution_count": null,
   "metadata": {},
   "outputs": [],
   "source": []
  }
 ],
 "metadata": {
  "kernelspec": {
   "display_name": "Python 3",
   "language": "python",
   "name": "python3"
  },
  "language_info": {
   "codemirror_mode": {
    "name": "ipython",
    "version": 3
   },
   "file_extension": ".py",
   "mimetype": "text/x-python",
   "name": "python",
   "nbconvert_exporter": "python",
   "pygments_lexer": "ipython3",
   "version": "3.6.2"
  }
 },
 "nbformat": 4,
 "nbformat_minor": 2
}
