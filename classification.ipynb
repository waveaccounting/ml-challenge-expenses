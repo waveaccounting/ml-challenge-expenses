{
 "cells": [
  {
   "cell_type": "markdown",
   "metadata": {},
   "source": [
    "# Wave Machine Learning Engineer Challenge\n",
    "\n",
    "## Classification\n",
    "\n",
    "This notebook contains a detailed solution to the following task:\n",
    "\n",
    "*Train a learning model that assigns each expense transaction to one of the set of predefined categories and evaluate it against the validation data provided. The set of categories are those found in the \"category\" column in the training data. Report on accuracy and at least one other performance metric.*\n",
    "\n",
    "Outline of methodology:\n",
    "\n",
    "- Load and explore the data.\n",
    "- Employ preprocessing tools such as dummy encoding and feature scaling.\n",
    "- Outline evaluation metrics to be used for analyzing training results\n",
    "- Train using boosting algorithms on the data (and its subsets)."
   ]
  },
  {
   "cell_type": "markdown",
   "metadata": {},
   "source": [
    "## 0. Libraries"
   ]
  },
  {
   "cell_type": "code",
   "execution_count": 1,
   "metadata": {
    "collapsed": true
   },
   "outputs": [],
   "source": [
    "import warnings\n",
    "\n",
    "import numpy as np # linear algebra\n",
    "import pandas as pd # data analysis\n",
    "\n",
    "# training algorithms\n",
    "from sklearn.ensemble import RandomForestClassifier\n",
    "from xgboost import XGBClassifier\n",
    "\n",
    "# preprocessing and model evaluation\n",
    "from sklearn.feature_extraction.text import TfidfVectorizer\n",
    "from sklearn.preprocessing import OneHotEncoder, LabelEncoder, MinMaxScaler\n",
    "from sklearn.metrics import classification_report, zero_one_loss, f1_score \n",
    "from sklearn_evaluation.plot import confusion_matrix\n",
    "from sklearn.model_selection import GridSearchCV, LeaveOneOut\n",
    "\n",
    "# visualization\n",
    "import matplotlib.pyplot as plt\n",
    "%matplotlib inline"
   ]
  },
  {
   "cell_type": "markdown",
   "metadata": {},
   "source": [
    "## 1. Data\n",
    "\n",
    "We work with two types of datasets: an employee data (which includes information about the employees themselves), and an expenses data (training/validation - which includes details about the employees's expenses)."
   ]
  },
  {
   "cell_type": "code",
   "execution_count": 2,
   "metadata": {
    "collapsed": true
   },
   "outputs": [],
   "source": [
    "# import the csv files using pandas\n",
    "training_data = pd.read_csv('training_data_example.csv')\n",
    "validation_data = pd.read_csv('validation_data_example.csv')\n",
    "employee_data = pd.read_csv('employee.csv')"
   ]
  },
  {
   "cell_type": "markdown",
   "metadata": {},
   "source": [
    "Let us take a closer look at our data."
   ]
  },
  {
   "cell_type": "code",
   "execution_count": 3,
   "metadata": {},
   "outputs": [
    {
     "name": "stdout",
     "output_type": "stream",
     "text": [
      "Training Data\n",
      "\n",
      "<class 'pandas.core.frame.DataFrame'>\n",
      "RangeIndex: 24 entries, 0 to 23\n",
      "Data columns (total 7 columns):\n",
      "date                   24 non-null object\n",
      "category               24 non-null object\n",
      "employee id            24 non-null int64\n",
      "expense description    24 non-null object\n",
      "pre-tax amount         24 non-null float64\n",
      "tax name               24 non-null object\n",
      "tax amount             24 non-null float64\n",
      "dtypes: float64(2), int64(1), object(4)\n",
      "memory usage: 1.4+ KB\n",
      "None\n"
     ]
    },
    {
     "data": {
      "text/html": [
       "<div>\n",
       "<style>\n",
       "    .dataframe thead tr:only-child th {\n",
       "        text-align: right;\n",
       "    }\n",
       "\n",
       "    .dataframe thead th {\n",
       "        text-align: left;\n",
       "    }\n",
       "\n",
       "    .dataframe tbody tr th {\n",
       "        vertical-align: top;\n",
       "    }\n",
       "</style>\n",
       "<table border=\"1\" class=\"dataframe\">\n",
       "  <thead>\n",
       "    <tr style=\"text-align: right;\">\n",
       "      <th></th>\n",
       "      <th>date</th>\n",
       "      <th>category</th>\n",
       "      <th>employee id</th>\n",
       "      <th>expense description</th>\n",
       "      <th>pre-tax amount</th>\n",
       "      <th>tax name</th>\n",
       "      <th>tax amount</th>\n",
       "    </tr>\n",
       "  </thead>\n",
       "  <tbody>\n",
       "    <tr>\n",
       "      <th>0</th>\n",
       "      <td>11/1/2016</td>\n",
       "      <td>Travel</td>\n",
       "      <td>7</td>\n",
       "      <td>Taxi ride</td>\n",
       "      <td>40.0</td>\n",
       "      <td>NY Sales tax</td>\n",
       "      <td>3.55</td>\n",
       "    </tr>\n",
       "    <tr>\n",
       "      <th>1</th>\n",
       "      <td>11/15/2016</td>\n",
       "      <td>Meals and Entertainment</td>\n",
       "      <td>1</td>\n",
       "      <td>Team lunch</td>\n",
       "      <td>235.0</td>\n",
       "      <td>CA Sales tax</td>\n",
       "      <td>30.55</td>\n",
       "    </tr>\n",
       "    <tr>\n",
       "      <th>2</th>\n",
       "      <td>11/30/2016</td>\n",
       "      <td>Computer - Hardware</td>\n",
       "      <td>3</td>\n",
       "      <td>HP Laptop Computer</td>\n",
       "      <td>999.0</td>\n",
       "      <td>CA Sales tax</td>\n",
       "      <td>129.87</td>\n",
       "    </tr>\n",
       "    <tr>\n",
       "      <th>3</th>\n",
       "      <td>11/14/2016</td>\n",
       "      <td>Computer - Software</td>\n",
       "      <td>3</td>\n",
       "      <td>Microsoft Office</td>\n",
       "      <td>899.0</td>\n",
       "      <td>CA Sales tax</td>\n",
       "      <td>116.87</td>\n",
       "    </tr>\n",
       "    <tr>\n",
       "      <th>4</th>\n",
       "      <td>11/6/2016</td>\n",
       "      <td>Computer - Software</td>\n",
       "      <td>4</td>\n",
       "      <td>Dropbox Subscription</td>\n",
       "      <td>50.0</td>\n",
       "      <td>CA Sales tax</td>\n",
       "      <td>6.50</td>\n",
       "    </tr>\n",
       "  </tbody>\n",
       "</table>\n",
       "</div>"
      ],
      "text/plain": [
       "         date                 category  employee id   expense description  \\\n",
       "0   11/1/2016                   Travel            7             Taxi ride   \n",
       "1  11/15/2016  Meals and Entertainment            1            Team lunch   \n",
       "2  11/30/2016      Computer - Hardware            3    HP Laptop Computer   \n",
       "3  11/14/2016      Computer - Software            3      Microsoft Office   \n",
       "4   11/6/2016      Computer - Software            4  Dropbox Subscription   \n",
       "\n",
       "   pre-tax amount      tax name  tax amount  \n",
       "0            40.0  NY Sales tax        3.55  \n",
       "1           235.0  CA Sales tax       30.55  \n",
       "2           999.0  CA Sales tax      129.87  \n",
       "3           899.0  CA Sales tax      116.87  \n",
       "4            50.0  CA Sales tax        6.50  "
      ]
     },
     "execution_count": 3,
     "metadata": {},
     "output_type": "execute_result"
    }
   ],
   "source": [
    "print('Training Data' '\\n') \n",
    "print(training_data.info())\n",
    "training_data.head()"
   ]
  },
  {
   "cell_type": "code",
   "execution_count": 4,
   "metadata": {},
   "outputs": [
    {
     "name": "stdout",
     "output_type": "stream",
     "text": [
      "Validation Data\n",
      "\n",
      "<class 'pandas.core.frame.DataFrame'>\n",
      "RangeIndex: 12 entries, 0 to 11\n",
      "Data columns (total 7 columns):\n",
      "date                   12 non-null object\n",
      "category               12 non-null object\n",
      "employee id            12 non-null int64\n",
      "expense description    12 non-null object\n",
      "pre-tax amount         12 non-null float64\n",
      "tax name               12 non-null object\n",
      "tax amount             12 non-null float64\n",
      "dtypes: float64(2), int64(1), object(4)\n",
      "memory usage: 752.0+ bytes\n",
      "None\n"
     ]
    },
    {
     "data": {
      "text/html": [
       "<div>\n",
       "<style>\n",
       "    .dataframe thead tr:only-child th {\n",
       "        text-align: right;\n",
       "    }\n",
       "\n",
       "    .dataframe thead th {\n",
       "        text-align: left;\n",
       "    }\n",
       "\n",
       "    .dataframe tbody tr th {\n",
       "        vertical-align: top;\n",
       "    }\n",
       "</style>\n",
       "<table border=\"1\" class=\"dataframe\">\n",
       "  <thead>\n",
       "    <tr style=\"text-align: right;\">\n",
       "      <th></th>\n",
       "      <th>date</th>\n",
       "      <th>category</th>\n",
       "      <th>employee id</th>\n",
       "      <th>expense description</th>\n",
       "      <th>pre-tax amount</th>\n",
       "      <th>tax name</th>\n",
       "      <th>tax amount</th>\n",
       "    </tr>\n",
       "  </thead>\n",
       "  <tbody>\n",
       "    <tr>\n",
       "      <th>0</th>\n",
       "      <td>11/10/2016</td>\n",
       "      <td>Travel</td>\n",
       "      <td>7</td>\n",
       "      <td>Taxi ride</td>\n",
       "      <td>30.0</td>\n",
       "      <td>NY Sales tax</td>\n",
       "      <td>2.66</td>\n",
       "    </tr>\n",
       "    <tr>\n",
       "      <th>1</th>\n",
       "      <td>11/12/2016</td>\n",
       "      <td>Meals and Entertainment</td>\n",
       "      <td>1</td>\n",
       "      <td>Dinner with Family</td>\n",
       "      <td>235.0</td>\n",
       "      <td>CA Sales tax</td>\n",
       "      <td>30.55</td>\n",
       "    </tr>\n",
       "    <tr>\n",
       "      <th>2</th>\n",
       "      <td>9/2/2016</td>\n",
       "      <td>Computer - Hardware</td>\n",
       "      <td>4</td>\n",
       "      <td>Macbook Air Computer</td>\n",
       "      <td>4000.0</td>\n",
       "      <td>CA Sales tax</td>\n",
       "      <td>520.00</td>\n",
       "    </tr>\n",
       "    <tr>\n",
       "      <th>3</th>\n",
       "      <td>9/2/2016</td>\n",
       "      <td>Office Supplies</td>\n",
       "      <td>4</td>\n",
       "      <td>Paper</td>\n",
       "      <td>20.0</td>\n",
       "      <td>CA Sales tax</td>\n",
       "      <td>2.60</td>\n",
       "    </tr>\n",
       "    <tr>\n",
       "      <th>4</th>\n",
       "      <td>9/2/2016</td>\n",
       "      <td>Office Supplies</td>\n",
       "      <td>4</td>\n",
       "      <td>Pens</td>\n",
       "      <td>20.0</td>\n",
       "      <td>CA Sales tax</td>\n",
       "      <td>2.60</td>\n",
       "    </tr>\n",
       "  </tbody>\n",
       "</table>\n",
       "</div>"
      ],
      "text/plain": [
       "         date                 category  employee id   expense description  \\\n",
       "0  11/10/2016                   Travel            7             Taxi ride   \n",
       "1  11/12/2016  Meals and Entertainment            1    Dinner with Family   \n",
       "2    9/2/2016      Computer - Hardware            4  Macbook Air Computer   \n",
       "3    9/2/2016          Office Supplies            4                 Paper   \n",
       "4    9/2/2016          Office Supplies            4                  Pens   \n",
       "\n",
       "   pre-tax amount      tax name  tax amount  \n",
       "0            30.0  NY Sales tax        2.66  \n",
       "1           235.0  CA Sales tax       30.55  \n",
       "2          4000.0  CA Sales tax      520.00  \n",
       "3            20.0  CA Sales tax        2.60  \n",
       "4            20.0  CA Sales tax        2.60  "
      ]
     },
     "execution_count": 4,
     "metadata": {},
     "output_type": "execute_result"
    }
   ],
   "source": [
    "print('Validation Data' '\\n') \n",
    "print(validation_data.info())\n",
    "validation_data.head()"
   ]
  },
  {
   "cell_type": "code",
   "execution_count": 5,
   "metadata": {},
   "outputs": [
    {
     "name": "stdout",
     "output_type": "stream",
     "text": [
      "Employee Data\n",
      "\n",
      "<class 'pandas.core.frame.DataFrame'>\n",
      "RangeIndex: 7 entries, 0 to 6\n",
      "Data columns (total 4 columns):\n",
      "employee id         7 non-null int64\n",
      "employee name       7 non-null object\n",
      "employee address    7 non-null object\n",
      "role                7 non-null object\n",
      "dtypes: int64(1), object(3)\n",
      "memory usage: 304.0+ bytes\n",
      "None\n"
     ]
    },
    {
     "data": {
      "text/html": [
       "<div>\n",
       "<style>\n",
       "    .dataframe thead tr:only-child th {\n",
       "        text-align: right;\n",
       "    }\n",
       "\n",
       "    .dataframe thead th {\n",
       "        text-align: left;\n",
       "    }\n",
       "\n",
       "    .dataframe tbody tr th {\n",
       "        vertical-align: top;\n",
       "    }\n",
       "</style>\n",
       "<table border=\"1\" class=\"dataframe\">\n",
       "  <thead>\n",
       "    <tr style=\"text-align: right;\">\n",
       "      <th></th>\n",
       "      <th>employee id</th>\n",
       "      <th>employee name</th>\n",
       "      <th>employee address</th>\n",
       "      <th>role</th>\n",
       "    </tr>\n",
       "  </thead>\n",
       "  <tbody>\n",
       "    <tr>\n",
       "      <th>0</th>\n",
       "      <td>1</td>\n",
       "      <td>Steve Jobs</td>\n",
       "      <td>235 Carlaw Ave, Toronto, ON, Canada</td>\n",
       "      <td>CEO</td>\n",
       "    </tr>\n",
       "    <tr>\n",
       "      <th>1</th>\n",
       "      <td>2</td>\n",
       "      <td>Jonathan Ive</td>\n",
       "      <td>1 Yonge St, Toronto, ON, Canada</td>\n",
       "      <td>Engineer</td>\n",
       "    </tr>\n",
       "    <tr>\n",
       "      <th>2</th>\n",
       "      <td>3</td>\n",
       "      <td>Tim Cook</td>\n",
       "      <td>1 Infinite Loop, Toronto, ON, Canada</td>\n",
       "      <td>IT and Admin</td>\n",
       "    </tr>\n",
       "    <tr>\n",
       "      <th>3</th>\n",
       "      <td>4</td>\n",
       "      <td>Larry Page</td>\n",
       "      <td>1600 Amphitheatre Parkway, Hamilton, ON, Canada</td>\n",
       "      <td>Sales</td>\n",
       "    </tr>\n",
       "    <tr>\n",
       "      <th>4</th>\n",
       "      <td>5</td>\n",
       "      <td>Jonathan Ive</td>\n",
       "      <td>1 Yonge St, Toronto, ON, Canada</td>\n",
       "      <td>Engineer</td>\n",
       "    </tr>\n",
       "  </tbody>\n",
       "</table>\n",
       "</div>"
      ],
      "text/plain": [
       "   employee id employee name                                 employee address  \\\n",
       "0            1    Steve Jobs              235 Carlaw Ave, Toronto, ON, Canada   \n",
       "1            2  Jonathan Ive                  1 Yonge St, Toronto, ON, Canada   \n",
       "2            3      Tim Cook             1 Infinite Loop, Toronto, ON, Canada   \n",
       "3            4    Larry Page  1600 Amphitheatre Parkway, Hamilton, ON, Canada   \n",
       "4            5  Jonathan Ive                  1 Yonge St, Toronto, ON, Canada   \n",
       "\n",
       "           role  \n",
       "0           CEO  \n",
       "1      Engineer  \n",
       "2  IT and Admin  \n",
       "3         Sales  \n",
       "4      Engineer  "
      ]
     },
     "execution_count": 5,
     "metadata": {},
     "output_type": "execute_result"
    }
   ],
   "source": [
    "print('Employee Data' '\\n') \n",
    "print(employee_data.info())\n",
    "employee_data.head()"
   ]
  },
  {
   "cell_type": "markdown",
   "metadata": {},
   "source": [
    "It's good to know that we have no null values. Let us join the employee data with each of the expense datasets, using *employee id* as the common column."
   ]
  },
  {
   "cell_type": "code",
   "execution_count": 6,
   "metadata": {
    "collapsed": true
   },
   "outputs": [],
   "source": [
    "TD = pd.merge(training_data, employee_data, on='employee id')\n",
    "VD = pd.merge(validation_data, employee_data, on='employee id')"
   ]
  },
  {
   "cell_type": "markdown",
   "metadata": {},
   "source": [
    "## 2. Preprocessing\n",
    "\n",
    "One thing to note is that an employee's id and name both give the same information, so we can drop *employee name*. Lets us also drop *employee address*, as only one employee lives in New York, and that information is captured in the *tax name* column. However the information in *tax name* is further captured by *tax amount*, since NY and CA sales tax ratios are well reflected:"
   ]
  },
  {
   "cell_type": "code",
   "execution_count": 7,
   "metadata": {},
   "outputs": [
    {
     "data": {
      "text/html": [
       "<div>\n",
       "<style>\n",
       "    .dataframe thead tr:only-child th {\n",
       "        text-align: right;\n",
       "    }\n",
       "\n",
       "    .dataframe thead th {\n",
       "        text-align: left;\n",
       "    }\n",
       "\n",
       "    .dataframe tbody tr th {\n",
       "        vertical-align: top;\n",
       "    }\n",
       "</style>\n",
       "<table border=\"1\" class=\"dataframe\">\n",
       "  <thead>\n",
       "    <tr style=\"text-align: right;\">\n",
       "      <th></th>\n",
       "      <th>tax name</th>\n",
       "      <th>0</th>\n",
       "    </tr>\n",
       "  </thead>\n",
       "  <tbody>\n",
       "    <tr>\n",
       "      <th>0</th>\n",
       "      <td>NY Sales tax</td>\n",
       "      <td>11.267606</td>\n",
       "    </tr>\n",
       "    <tr>\n",
       "      <th>1</th>\n",
       "      <td>NY Sales tax</td>\n",
       "      <td>11.267606</td>\n",
       "    </tr>\n",
       "    <tr>\n",
       "      <th>2</th>\n",
       "      <td>NY Sales tax</td>\n",
       "      <td>11.267685</td>\n",
       "    </tr>\n",
       "    <tr>\n",
       "      <th>3</th>\n",
       "      <td>CA Sales tax</td>\n",
       "      <td>7.692308</td>\n",
       "    </tr>\n",
       "    <tr>\n",
       "      <th>4</th>\n",
       "      <td>CA Sales tax</td>\n",
       "      <td>7.692308</td>\n",
       "    </tr>\n",
       "  </tbody>\n",
       "</table>\n",
       "</div>"
      ],
      "text/plain": [
       "       tax name          0\n",
       "0  NY Sales tax  11.267606\n",
       "1  NY Sales tax  11.267606\n",
       "2  NY Sales tax  11.267685\n",
       "3  CA Sales tax   7.692308\n",
       "4  CA Sales tax   7.692308"
      ]
     },
     "execution_count": 7,
     "metadata": {},
     "output_type": "execute_result"
    }
   ],
   "source": [
    "pd.concat([TD['tax name'], (TD['pre-tax amount']/TD['tax amount'])], axis=1).head()"
   ]
  },
  {
   "cell_type": "markdown",
   "metadata": {},
   "source": [
    "So we can also drop *tax name*.\n",
    "\n",
    "Note: I am assuming that the above ratio applies to categories that may not be in this sample dataset. I.e. if a new tax is present, it will also be reflected in the ratio of pre-tax and tax amounts."
   ]
  },
  {
   "cell_type": "code",
   "execution_count": 8,
   "metadata": {
    "collapsed": true
   },
   "outputs": [],
   "source": [
    "TD = TD.drop(['employee address', 'employee name', 'tax name'], axis=1)\n",
    "VD = VD.drop(['employee address', 'employee name', 'tax name'], axis=1)"
   ]
  },
  {
   "cell_type": "markdown",
   "metadata": {},
   "source": [
    "Next, we have a column containing dates. This could potentially be important in determining business vs personal expenses (and even the category of expenses), because personal expenses can ramp up during holidays. To simplify things, let us only extract the month from each date."
   ]
  },
  {
   "cell_type": "code",
   "execution_count": 9,
   "metadata": {
    "collapsed": true
   },
   "outputs": [],
   "source": [
    "# convert the date column to a datetime format, then extract only the month\n",
    "TD['month'] = pd.to_datetime(TD.date).dt.month\n",
    "VD['month'] = pd.to_datetime(VD.date).dt.month\n",
    "\n",
    "# drop date as a column\n",
    "TD = TD.drop(['date'], axis=1)\n",
    "VD = VD.drop(['date'], axis=1)"
   ]
  },
  {
   "cell_type": "markdown",
   "metadata": {},
   "source": [
    "Also note that columns such as *role* iare categorical. Let us encode them as dummy variables."
   ]
  },
  {
   "cell_type": "code",
   "execution_count": 10,
   "metadata": {
    "collapsed": true,
    "scrolled": true
   },
   "outputs": [],
   "source": [
    "# dummy encoding\n",
    "TD = pd.concat([TD, pd.get_dummies(TD['role']), \n",
    "                pd.get_dummies(TD['employee id']),\n",
    "               pd.get_dummies(TD['month'])], axis=1)\n",
    "VD = pd.concat([VD, pd.get_dummies(VD['role']), \n",
    "                pd.get_dummies(VD['employee id']),\n",
    "               pd.get_dummies(VD['month'])], axis=1)\n",
    "\n",
    "# drop original columns\n",
    "TD = TD.drop(['role','employee id','month'], axis=1)\n",
    "VD = VD.drop(['role','employee id','month'], axis=1)"
   ]
  },
  {
   "cell_type": "markdown",
   "metadata": {},
   "source": [
    "We also scale the tax features into the interval [0,1] to ensure no geometric bias towards features with large real-values. "
   ]
  },
  {
   "cell_type": "code",
   "execution_count": 11,
   "metadata": {
    "collapsed": true
   },
   "outputs": [],
   "source": [
    "scaler = MinMaxScaler(feature_range=(0,1))\n",
    "TD[['pre-tax amount','tax amount']] = scaler.fit_transform(TD[['pre-tax amount','tax amount']])\n",
    "VD[['pre-tax amount','tax amount']] = scaler.fit_transform(VD[['pre-tax amount','tax amount']])"
   ]
  },
  {
   "cell_type": "markdown",
   "metadata": {},
   "source": [
    "Now, we have a descriptive column: *expense description*. We can use *TfidfVectorizer* to convert this to a matrix of TF-IDF features. tf–idf (term frequency–inverse document frequency) is a statistic that is intended to reflect how important a word is to a document in a collection. It increases proportionally to the number of times a word appears in the document and is offset by the frequency of the word in the collection, which helps to adjust for the fact that some words appear more frequently in general. "
   ]
  },
  {
   "cell_type": "code",
   "execution_count": 12,
   "metadata": {
    "collapsed": true
   },
   "outputs": [],
   "source": [
    "vectorizer = TfidfVectorizer(stop_words='english')\n",
    "vectorizer.fit(TD['expense description'])\n",
    "training_vecs = vectorizer.transform(TD['expense description']).toarray()\n",
    "validation_vecs = vectorizer.transform(VD['expense description']).toarray()"
   ]
  },
  {
   "cell_type": "markdown",
   "metadata": {},
   "source": [
    "We define our feaures and labels."
   ]
  },
  {
   "cell_type": "code",
   "execution_count": 13,
   "metadata": {},
   "outputs": [
    {
     "name": "stdout",
     "output_type": "stream",
     "text": [
      "Training features shape: (24, 43)\n",
      "Validation features shape: (12, 43)\n"
     ]
    }
   ],
   "source": [
    "# features for the MLP\n",
    "training_cols = np.array(TD.drop(['category', 'expense description'], axis=1))\n",
    "validation_cols = np.array(VD.drop(['category', 'expense description'], axis=1))\n",
    "X_train = np.c_[training_cols, training_vecs]\n",
    "X_valid = np.c_[validation_cols, validation_vecs]\n",
    "print('Training features shape:', X_train.shape)\n",
    "print('Validation features shape:', X_valid.shape)\n",
    "\n",
    "# labels\n",
    "y_train = TD['category']\n",
    "y_valid = VD['category']"
   ]
  },
  {
   "cell_type": "markdown",
   "metadata": {},
   "source": [
    "Before proceeding, let's look at the distribution of labels."
   ]
  },
  {
   "cell_type": "code",
   "execution_count": 14,
   "metadata": {},
   "outputs": [
    {
     "data": {
      "text/plain": [
       "(-1.1362697079264235,\n",
       " 1.1017271289488773,\n",
       " -1.101144524405598,\n",
       " 1.1240348317468205)"
      ]
     },
     "execution_count": 14,
     "metadata": {},
     "output_type": "execute_result"
    },
    {
     "data": {
      "image/png": "[encoded data removed]",
      "text/plain": [
       "<matplotlib.figure.Figure at 0x20c74defef0>"
      ]
     },
     "metadata": {},
     "output_type": "display_data"
    }
   ],
   "source": [
    "y_train.value_counts().plot(kind='pie', \n",
    "                                  figsize=(8,6), \n",
    "                                  fontsize=13, \n",
    "                                  autopct='%1.1f%%', \n",
    "                                  wedgeprops={'linewidth': 5}\n",
    "                                  )\n",
    "plt.axis('off')\n",
    "plt.axis('equal')"
   ]
  },
  {
   "cell_type": "markdown",
   "metadata": {},
   "source": [
    "Clearly the dataset is imbalanced - with some labels having a larger number of occurances than others. This is a good indication that something like accuracy will not be a good evaluation metric. Instead we employ tools such as confusion matrix and f1 score. These will be observed after training is complete. For now we encode our labels."
   ]
  },
  {
   "cell_type": "code",
   "execution_count": 15,
   "metadata": {},
   "outputs": [
    {
     "name": "stdout",
     "output_type": "stream",
     "text": [
      "Training labels shape: (24,)\n",
      "Validation labels shape: (12,)\n"
     ]
    }
   ],
   "source": [
    "# first encode the string labels as ints\n",
    "le = LabelEncoder()\n",
    "le.fit(y_train)\n",
    "names = set(y_valid) # label names to be used later\n",
    "y_train = le.transform(y_train)\n",
    "y_valid = le.transform(y_valid)\n",
    "\n",
    "print('Training labels shape:', y_train.shape)\n",
    "print('Validation labels shape:', y_valid.shape)"
   ]
  },
  {
   "cell_type": "markdown",
   "metadata": {},
   "source": [
    "## 4. Training\n",
    "\n",
    "We start by using a random forest estimator. This is an ensemble learning technique that works by constructing several decision trees at training time and outputting - for classification problems - the class that is the mode of the classes of the individual trees. Following are some of the important parameters.\n",
    "\n",
    "- *n_estimators*: The number of trees in the forest.\n",
    "- *max_features*: The number of features to consider when looking for the best split. For 'sqrt', $\\text{max_features} = \\sqrt{\\text{number of features}}$.\n",
    "\n",
    "To get a good sense of how the main feaure-subsets contribute to the classification, we will train (and validate) using three subsets. Recall:\n",
    "\n",
    "- *training_vecs* is the set of TF-IDF features generated from the *expense description* column.\n",
    "- *training_cols* is the set of categorical and numerical features that were retained after the preprocessing step.\n",
    "- *X_train* contains the above two.\n",
    "\n",
    "Likewise for the validation subsets."
   ]
  },
  {
   "cell_type": "code",
   "execution_count": 16,
   "metadata": {
    "collapsed": true,
    "scrolled": true
   },
   "outputs": [],
   "source": [
    "seed = 10 # set seed\n",
    "classifier = RandomForestClassifier(n_jobs=-1,\n",
    "                                    max_features='sqrt',\n",
    "                                    bootstrap=True, \n",
    "                                    oob_score=True, \n",
    "                                    random_state=seed)\n",
    "# to find the best hyperparameters\n",
    "param_grid = {'n_estimators': [25,50,100,200,300]}\n",
    "\n",
    "# for the sake of using a small sample dataset, let's use LeaveOneOut CV. \n",
    "# if however a larger dataset is used, resort to a standard CV.\n",
    "if X_train.shape[0] < X_train.shape[1]*5:\n",
    "    # five times the number of features\n",
    "    cv = LeaveOneOut()\n",
    "else:\n",
    "    cv = 5"
   ]
  },
  {
   "cell_type": "code",
   "execution_count": 17,
   "metadata": {},
   "outputs": [
    {
     "name": "stdout",
     "output_type": "stream",
     "text": [
      "Best parameters using training_vecs data {'n_estimators': 100}\n"
     ]
    }
   ],
   "source": [
    "# using TF-IDF features\n",
    "grid_search_tfdif = GridSearchCV(estimator=classifier, \n",
    "                           param_grid=param_grid, \n",
    "                           cv=cv, \n",
    "                           verbose=0)\n",
    "grid_search_tfdif.fit(training_vecs, y_train)\n",
    "print('Best parameters using training_vecs data', grid_search_tfdif.best_params_)"
   ]
  },
  {
   "cell_type": "code",
   "execution_count": 18,
   "metadata": {},
   "outputs": [
    {
     "name": "stdout",
     "output_type": "stream",
     "text": [
      "Best parameters using training_cols data {'n_estimators': 25}\n"
     ]
    }
   ],
   "source": [
    "# using categorical and numerical features\n",
    "grid_search_cn = GridSearchCV(estimator=classifier, \n",
    "                           param_grid=param_grid, \n",
    "                           cv=cv, \n",
    "                           verbose=0)\n",
    "grid_search_cn.fit(training_cols, y_train)\n",
    "print('Best parameters using training_cols data', grid_search_cn.best_params_)"
   ]
  },
  {
   "cell_type": "code",
   "execution_count": 19,
   "metadata": {},
   "outputs": [
    {
     "name": "stdout",
     "output_type": "stream",
     "text": [
      "Best parameters using X_train data {'n_estimators': 200}\n"
     ]
    }
   ],
   "source": [
    "# using all features\n",
    "grid_search_all = GridSearchCV(estimator=classifier, \n",
    "                           param_grid=param_grid, \n",
    "                           cv=cv, \n",
    "                           verbose=0)\n",
    "grid_search_all.fit(X_train, y_train)\n",
    "print('Best parameters using X_train data', grid_search_all.best_params_)"
   ]
  },
  {
   "cell_type": "code",
   "execution_count": 20,
   "metadata": {},
   "outputs": [
    {
     "name": "stdout",
     "output_type": "stream",
     "text": [
      "Score using training_vecs data: 0.9166666666666666\n",
      "Score using training_cols data: 0.3333333333333333\n",
      "Score using X_train data: 1.0\n"
     ]
    }
   ],
   "source": [
    "print('Score using training_vecs data:', grid_search_tfdif.best_estimator_.score(validation_vecs, y_valid))\n",
    "print('Score using training_cols data:', grid_search_cn.best_estimator_.score(validation_cols, y_valid))\n",
    "print('Score using X_train data:', grid_search_all.best_estimator_.score(X_valid, y_valid))"
   ]
  },
  {
   "cell_type": "markdown",
   "metadata": {},
   "source": [
    "It makes sense that using a combination of text, categorical and numemerical features allows for a better classification score (mean accuracy). The *expense description* column alone yields a score of ~92% (on the sample data), while the remaining features result in a score that is far lower. However this could be a result of the small sample datasets at our disposal.\n",
    "\n",
    "Let us next explore XGBoostClassifier, which implements gradient boosted decision trees for classification. There are many hyperparameters that can be tuned (including regularization strength and tree depth). Following are some of the important parameters.\n",
    "\n",
    "- *max_depth*: Maximum tree depth.\n",
    "- *learning_rate*: Boosting learning rate.\n",
    "- *reg_alpha*: L1 regularization for weights.\n",
    "- *reg_lambda*: L2 regularization for weights.\n",
    "- *objective*: Learning objective; 'multi-softmax' performs multiclass classification using the softmax function.\n",
    "\n",
    "Now, since we know that using a combination of all features (post-processing) results in optimal results, let us do the same for xgboost. "
   ]
  },
  {
   "cell_type": "code",
   "execution_count": 21,
   "metadata": {},
   "outputs": [
    {
     "data": {
      "text/plain": [
       "GridSearchCV(cv=LeaveOneOut(), error_score='raise',\n",
       "       estimator=XGBClassifier(base_score=0.5, booster='gbtree', colsample_bylevel=1,\n",
       "       colsample_bytree=1, gamma=0, learning_rate=0.1, max_delta_step=0,\n",
       "       max_depth=3, min_child_weight=1, missing=None, n_estimators=100,\n",
       "       n_jobs=1, nthread=None, num_class=5, objective='multi:softmax',\n",
       "       random_state=10, reg_alpha=0, reg_lambda=1, scale_pos_weight=1,\n",
       "       seed=None, silent=True, subsample=1),\n",
       "       fit_params=None, iid=True, n_jobs=1,\n",
       "       param_grid={'colsample_bytree': [0.5, 1], 'learning_rate': [0.001, 0.01, 0.1], 'reg_alpha': [0, 1, 2], 'subsample': [0.5, 1], 'max_depth': [3, 5, 7]},\n",
       "       pre_dispatch='2*n_jobs', refit=True, return_train_score='warn',\n",
       "       scoring=None, verbose=0)"
      ]
     },
     "execution_count": 21,
     "metadata": {},
     "output_type": "execute_result"
    }
   ],
   "source": [
    "# suppressing some deprecated warnings\n",
    "warnings.filterwarnings(\"ignore\")\n",
    "\n",
    "xgb = XGBClassifier(objective='multi:softmax', \n",
    "                    num_class=len(set(y_train)),\n",
    "                    random_state=seed)\n",
    "param_grid_xgb = {'max_depth': [3,5,7],\n",
    "                  'learning_rate': [0.001,0.01,0.1],\n",
    "                  'subsample':[0.5,1],\n",
    "                  'colsample_bytree':[0.5,1],\n",
    "                  'reg_alpha':[0,1,2]}\n",
    "grid_search_xgb = GridSearchCV(estimator=xgb,\n",
    "                               param_grid=param_grid_xgb, \n",
    "                               cv=cv,\n",
    "                               verbose=0)\n",
    "grid_search_xgb.fit(X_train, y_train)"
   ]
  },
  {
   "cell_type": "code",
   "execution_count": 22,
   "metadata": {},
   "outputs": [
    {
     "name": "stdout",
     "output_type": "stream",
     "text": [
      "Best parameters for xgboost {'reg_alpha': 1, 'subsample': 1, 'learning_rate': 0.01, 'max_depth': 3, 'colsample_bytree': 1}\n",
      "Score for xgboost: 1.0\n"
     ]
    }
   ],
   "source": [
    "print('Best parameters for xgboost', grid_search_xgb.best_params_)\n",
    "print('Score for xgboost:', grid_search_xgb.best_estimator_.score(X_valid, y_valid))"
   ]
  },
  {
   "cell_type": "markdown",
   "metadata": {},
   "source": [
    "## 5. Evaluation\n",
    "\n",
    "We use the following metrics to evaluate our models:\n",
    "\n",
    "* The *f1 score* can be interpreted as a weighted average of the precision and recall, where an F1 score reaches its best value at 1 and worst score at 0. The relative contribution of precision and recall to the F1 score are equal. In the multi-class and multi-label case, this is the weighted average of the F1 score of each class. The formula for the F1 score is \n",
    "\n",
    "$$ \\text{F1} = 2 \\frac{(precision * recall)}{(precision + recall)}. $$\n",
    "\n",
    "* A *confusion matrix* $C$ is such that $C_{i, j}$ is equal to the number of observations known to be in group i but predicted to be in group j.\n",
    "\n",
    "Note that *classification_report* calculates the f1 score for each label and finds their average (weighted by the number of true instances for each label). This accounts for label imbalance."
   ]
  },
  {
   "cell_type": "code",
   "execution_count": 23,
   "metadata": {},
   "outputs": [
    {
     "name": "stdout",
     "output_type": "stream",
     "text": [
      "                         precision    recall  f1-score   support\n",
      "\n",
      "        Office Supplies       1.00      1.00      1.00         1\n",
      "Meals and Entertainment       1.00      1.00      1.00         7\n",
      "                 Travel       1.00      1.00      1.00         2\n",
      "    Computer - Hardware       1.00      1.00      1.00         2\n",
      "\n",
      "            avg / total       1.00      1.00      1.00        12\n",
      "\n",
      "Number of misclassifications: 0 | Ratio of misclassifications: 0.0\n"
     ]
    },
    {
     "data": {
      "image/png": "[encoded data removed]",
      "text/plain": [
       "<matplotlib.figure.Figure at 0x20c74e72358>"
      ]
     },
     "metadata": {},
     "output_type": "display_data"
    }
   ],
   "source": [
    "# random forest classifier evaluation\n",
    "\n",
    "predictions_rfc = grid_search_all.best_estimator_.predict(X_valid) # predicted labels\n",
    "fig = plt.figure(figsize=(8,8))\n",
    "plt.xticks(rotation=45)\n",
    "confusion_matrix(y_valid, predictions_rfc, names).grid(False)\n",
    "print(classification_report(y_valid, predictions_rfc, None, names))\n",
    "print('Number of misclassifications:', zero_one_loss(y_valid, predictions_rfc, normalize=False),\n",
    "      '| Ratio of misclassifications:', zero_one_loss(y_valid, predictions_rfc, normalize=True))"
   ]
  },
  {
   "cell_type": "code",
   "execution_count": 24,
   "metadata": {},
   "outputs": [
    {
     "name": "stdout",
     "output_type": "stream",
     "text": [
      "                         precision    recall  f1-score   support\n",
      "\n",
      "        Office Supplies       1.00      1.00      1.00         1\n",
      "Meals and Entertainment       1.00      1.00      1.00         7\n",
      "                 Travel       1.00      1.00      1.00         2\n",
      "    Computer - Hardware       1.00      1.00      1.00         2\n",
      "\n",
      "            avg / total       1.00      1.00      1.00        12\n",
      "\n",
      "Number of misclassifications: 0 | Ratio of misclassifications: 0.0\n"
     ]
    },
    {
     "data": {
      "image/png": "[encoded data removed]",
      "text/plain": [
       "<matplotlib.figure.Figure at 0x20c74faa3c8>"
      ]
     },
     "metadata": {},
     "output_type": "display_data"
    }
   ],
   "source": [
    "predictions_xgb = grid_search_xgb.best_estimator_.predict(X_valid) # predicted labels\n",
    "fig = plt.figure(figsize=(8,8))\n",
    "plt.xticks(rotation=45)\n",
    "confusion_matrix(y_valid, predictions_xgb, names).grid(False)\n",
    "print(classification_report(y_valid, predictions_xgb, None, names))\n",
    "print('Number of misclassifications:', zero_one_loss(y_valid, predictions_xgb, normalize=False),\n",
    "      '| Ratio of misclassifications:', zero_one_loss(y_valid, predictions_xgb, normalize=True))"
   ]
  },
  {
   "cell_type": "markdown",
   "metadata": {},
   "source": [
    "Lastly, let's include the f1-score and mean accuracy for both classifiers on training and validation sets."
   ]
  },
  {
   "cell_type": "code",
   "execution_count": 25,
   "metadata": {},
   "outputs": [
    {
     "name": "stdout",
     "output_type": "stream",
     "text": [
      "Random Forest\n",
      "Classification accuracy (training): 1.0\n",
      "Classification accuracy (validation): 1.0\n",
      "F1-score (training): 1.0\n",
      "F1-score (validation): 1.0\n",
      "\n",
      "XGBoost\n",
      "Classification accuracy (training): 0.9166666666666666\n",
      "Classification accuracy (validation): 1.0\n",
      "F1-score (training): 0.9134920634920635\n",
      "F1-score (validation): 1.0\n"
     ]
    }
   ],
   "source": [
    "print('Random Forest')\n",
    "print('Classification accuracy (training):', grid_search_all.best_estimator_.score(X_train, y_train))\n",
    "print('Classification accuracy (validation):', grid_search_all.best_estimator_.score(X_valid, y_valid))\n",
    "print('F1-score (training):', f1_score(y_train, grid_search_all.best_estimator_.predict(X_train), average='weighted'))\n",
    "print('F1-score (validation):', f1_score(y_valid, predictions_rfc, average='weighted'))\n",
    "print('')\n",
    "print('XGBoost')\n",
    "print('Classification accuracy (training):', grid_search_xgb.best_estimator_.score(X_train, y_train))\n",
    "print('Classification accuracy (validation):', grid_search_xgb.best_estimator_.score(X_valid, y_valid))\n",
    "print('F1-score (training):', f1_score(y_train, grid_search_xgb.best_estimator_.predict(X_train), average='weighted'))\n",
    "print('F1-score (validation):', f1_score(y_valid, predictions_xgb, average='weighted'))"
   ]
  },
  {
   "cell_type": "markdown",
   "metadata": {},
   "source": [
    "Both classifiers performed seemingly well on the toy validation sets, so there isn't much to say in terms of comparing the two models (at least not on this dataset). However, xgboost is known to utilize a plethora of hyperparameters that can be fine-tuned to achieve better performance than random forests. In conclusion, here are some pros and cons of each model used:\n",
    "\n",
    "**Random Forest**\n",
    "\n",
    "Pros:\n",
    "- Reduced variance in comparison to regular decision trees.\n",
    "- Can easily handle categorical features.\n",
    "- Trees can be decorrelated, which automatically helps with multi-collinearity of features.\n",
    "\n",
    "Cons:\n",
    "- Not easy to visually interpret.\n",
    "\n",
    "**XGBoost**\n",
    "\n",
    "Pros:\n",
    "- Very flexible with parameters such as learning rate and the ability to use custom loss functions.\n",
    "- Can easily handle categorical features.\n",
    "\n",
    "Cons:\n",
    "- I am very new to xgboost, so I honestly can't think of any cons aside from the confusion that may arise from dealing with so many hyperparameters."
   ]
  }
 ],
 "metadata": {
  "kernelspec": {
   "display_name": "Python 3",
   "language": "python",
   "name": "python3"
  },
  "language_info": {
   "codemirror_mode": {
    "name": "ipython",
    "version": 3
   },
   "file_extension": ".py",
   "mimetype": "text/x-python",
   "name": "python",
   "nbconvert_exporter": "python",
   "pygments_lexer": "ipython3",
   "version": "3.5.2"
  }
 },
 "nbformat": 4,
 "nbformat_minor": 2
}
