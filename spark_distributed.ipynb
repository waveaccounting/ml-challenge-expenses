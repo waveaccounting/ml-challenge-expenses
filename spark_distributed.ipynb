{
 "cells": [
  {
   "cell_type": "markdown",
   "metadata": {},
   "source": [
    "# Distributed version of Question 1 (Spark)"
   ]
  },
  {
   "cell_type": "markdown",
   "metadata": {},
   "source": [
    "This part is mostly done by searching and implementing as it is my first Spark experience (I was interested in learning basics of Spark)."
   ]
  },
  {
   "cell_type": "code",
   "execution_count": 16,
   "metadata": {},
   "outputs": [],
   "source": [
    "from pyspark.ml.feature import OneHotEncoderEstimator, StringIndexer, VectorAssembler\n",
    "from pyspark.ml.classification import LogisticRegression\n",
    "from pyspark.ml.classification import RandomForestClassifier\n",
    "from pyspark.ml.evaluation import MulticlassClassificationEvaluator\n",
    "from pyspark.sql import SparkSession\n",
    "from pyspark.ml import Pipeline\n",
    "import pandas as pd"
   ]
  },
  {
   "cell_type": "code",
   "execution_count": 2,
   "metadata": {},
   "outputs": [],
   "source": [
    "spark = SparkSession.builder.appName('distributed-ml-challenge').getOrCreate()"
   ]
  },
  {
   "cell_type": "markdown",
   "metadata": {},
   "source": [
    "Read both training and validation csv files."
   ]
  },
  {
   "cell_type": "code",
   "execution_count": 3,
   "metadata": {},
   "outputs": [
    {
     "name": "stdout",
     "output_type": "stream",
     "text": [
      "number of training / validation samples: 24 / 12\n"
     ]
    }
   ],
   "source": [
    "train = spark.read.csv('training_data_example.csv', header = True, inferSchema = True)\n",
    "train_count = train.count()\n",
    "\n",
    "validation = spark.read.csv('validation_data_example.csv', header = True, inferSchema = True)\n",
    "validation_count = validation.count()\n",
    "\n",
    "print(\"number of training / validation samples: {0} / {1}\".format(train_count, validation_count))"
   ]
  },
  {
   "cell_type": "code",
   "execution_count": 4,
   "metadata": {},
   "outputs": [
    {
     "name": "stdout",
     "output_type": "stream",
     "text": [
      "+----------+--------------------+-----------+--------------------+--------------+------------+----------+\n",
      "|      date|            category|employee id| expense description|pre-tax amount|    tax name|tax amount|\n",
      "+----------+--------------------+-----------+--------------------+--------------+------------+----------+\n",
      "|11/10/2016|              Travel|          7|           Taxi ride|          30.0|NY Sales tax|      2.66|\n",
      "|11/12/2016|Meals and Enterta...|          1|  Dinner with Family|         235.0|CA Sales tax|     30.55|\n",
      "|  9/2/2016| Computer - Hardware|          4|Macbook Air Computer|        4000.0|CA Sales tax|     520.0|\n",
      "|  9/2/2016|     Office Supplies|          4|               Paper|          20.0|CA Sales tax|       2.6|\n",
      "|  9/2/2016|     Office Supplies|          4|                Pens|          20.0|CA Sales tax|       2.6|\n",
      "|11/21/2016|              Travel|          1|Airplane ticket t...|         200.0|CA Sales tax|      26.0|\n",
      "| 12/4/2016|Meals and Enterta...|          2|    Starbucks coffee|          12.0|CA Sales tax|      1.56|\n",
      "| 1/18/2010|Meals and Enterta...|          6|              Dinner|          30.0|CA Sales tax|       3.9|\n",
      "| 10/5/2016|Meals and Enterta...|          4|  Dinner with client|         220.0|CA Sales tax|      28.6|\n",
      "| 12/2/2016|Meals and Enterta...|          4|              Dinner|         180.0|CA Sales tax|      23.4|\n",
      "| 2/14/2017|Meals and Enterta...|          4|              Dinner|         500.0|CA Sales tax|      65.0|\n",
      "| 2/14/2016|Meals and Enterta...|          4|              Dinner|         600.0|CA Sales tax|      78.0|\n",
      "+----------+--------------------+-----------+--------------------+--------------+------------+----------+\n",
      "\n"
     ]
    }
   ],
   "source": [
    "validation.show()"
   ]
  },
  {
   "cell_type": "markdown",
   "metadata": {},
   "source": [
    "Concatenate both train and validation data frame in order to make changes easier. They will be separated in next steps for creating model and evaluating its performance."
   ]
  },
  {
   "cell_type": "code",
   "execution_count": 5,
   "metadata": {},
   "outputs": [],
   "source": [
    "whole_dataset = train.union(validation)"
   ]
  },
  {
   "cell_type": "markdown",
   "metadata": {},
   "source": [
    "Code taken from this page: https://docs.databricks.com/spark/latest/mllib/binary-classification-mllib-pipelines.html"
   ]
  },
  {
   "cell_type": "code",
   "execution_count": 6,
   "metadata": {},
   "outputs": [],
   "source": [
    "cols = whole_dataset.columns\n",
    "categoricalColumns = ['expense description', 'tax name', 'category']\n",
    "stages = []\n",
    "for categoricalCol in categoricalColumns:\n",
    "    stringIndexer = StringIndexer(inputCol = categoricalCol, outputCol = categoricalCol + 'Index')\n",
    "    encoder = OneHotEncoderEstimator(inputCols=[stringIndexer.getOutputCol()], outputCols=[categoricalCol + \"classVec\"])\n",
    "    stages += [stringIndexer, encoder]\n",
    "label_stringIdx = StringIndexer(inputCol = 'category', outputCol = 'label')\n",
    "stages += [label_stringIdx]\n",
    "numericCols = ['employee id', 'pre-tax amount', 'tax amount']\n",
    "assemblerInputs = [c + \"classVec\" for c in categoricalColumns] + numericCols\n",
    "assembler = VectorAssembler(inputCols=assemblerInputs, outputCol=\"features\")\n",
    "stages += [assembler]"
   ]
  },
  {
   "cell_type": "code",
   "execution_count": 7,
   "metadata": {},
   "outputs": [],
   "source": [
    "pipeline = Pipeline(stages = stages)\n",
    "pipelineModel = pipeline.fit(whole_dataset)\n",
    "whole_dataset = pipelineModel.transform(whole_dataset)\n",
    "selectedCols = ['label', 'features'] + cols\n",
    "whole_dataset = whole_dataset.select(selectedCols)"
   ]
  },
  {
   "cell_type": "markdown",
   "metadata": {},
   "source": [
    "Separate train and validation."
   ]
  },
  {
   "cell_type": "code",
   "execution_count": 8,
   "metadata": {},
   "outputs": [
    {
     "name": "stdout",
     "output_type": "stream",
     "text": [
      "Training Dataset Count: 24\n",
      "Test Dataset Count: 12\n"
     ]
    }
   ],
   "source": [
    "train, validation = whole_dataset.randomSplit([0.6, 0.4], seed = 0)\n",
    "print(\"Training Dataset Count: {0}\".format(train.count()))\n",
    "print(\"Test Dataset Count: {0}\".format(validation.count()))"
   ]
  },
  {
   "cell_type": "code",
   "execution_count": 20,
   "metadata": {},
   "outputs": [],
   "source": [
    "models = {'Losistic Regression': LogisticRegression(featuresCol = 'features', labelCol = 'label', maxIter=10),\n",
    "          'Random Forest': RandomForestClassifier(featuresCol='features', labelCol='label', numTrees=5)}\n",
    "\n",
    "evaluator = MulticlassClassificationEvaluator(labelCol=\"label\", predictionCol=\"prediction\", metricName=\"accuracy\")"
   ]
  },
  {
   "cell_type": "code",
   "execution_count": 21,
   "metadata": {},
   "outputs": [
    {
     "name": "stdout",
     "output_type": "stream",
     "text": [
      "\n",
      "Classification results using -> Losistic Regression\n",
      "+--------------------+----------+\n",
      "|            category|prediction|\n",
      "+--------------------+----------+\n",
      "|Meals and Enterta...|       0.0|\n",
      "|Meals and Enterta...|       0.0|\n",
      "|Meals and Enterta...|       0.0|\n",
      "|Meals and Enterta...|       0.0|\n",
      "|Meals and Enterta...|       0.0|\n",
      "|              Travel|       1.0|\n",
      "|              Travel|       1.0|\n",
      "|              Travel|       1.0|\n",
      "|              Travel|       1.0|\n",
      "|              Travel|       1.0|\n",
      "|              Travel|       1.0|\n",
      "| Computer - Software|       2.0|\n",
      "| Computer - Software|       2.0|\n",
      "| Computer - Software|       2.0|\n",
      "| Computer - Hardware|       3.0|\n",
      "| Computer - Hardware|       3.0|\n",
      "|Meals and Enterta...|       0.0|\n",
      "|Meals and Enterta...|       0.0|\n",
      "|Meals and Enterta...|       0.0|\n",
      "|Meals and Enterta...|       0.0|\n",
      "+--------------------+----------+\n",
      "only showing top 20 rows\n",
      "\n",
      "+--------------------+----------+\n",
      "|            category|prediction|\n",
      "+--------------------+----------+\n",
      "|Meals and Enterta...|       0.0|\n",
      "|Meals and Enterta...|       0.0|\n",
      "|Meals and Enterta...|       0.0|\n",
      "|Meals and Enterta...|       0.0|\n",
      "|Meals and Enterta...|       0.0|\n",
      "| Computer - Software|       2.0|\n",
      "| Computer - Hardware|       3.0|\n",
      "|     Office Supplies|       0.0|\n",
      "|Meals and Enterta...|       0.0|\n",
      "|Meals and Enterta...|       0.0|\n",
      "|              Travel|       1.0|\n",
      "|     Office Supplies|       0.0|\n",
      "+--------------------+----------+\n",
      "\n",
      "Train accuracy = 1.00 \n",
      "Validation accuracy = 0.83\n",
      "\n",
      "Classification results using -> Random Forest\n",
      "+--------------------+----------+\n",
      "|            category|prediction|\n",
      "+--------------------+----------+\n",
      "|Meals and Enterta...|       0.0|\n",
      "|Meals and Enterta...|       0.0|\n",
      "|Meals and Enterta...|       0.0|\n",
      "|Meals and Enterta...|       0.0|\n",
      "|Meals and Enterta...|       0.0|\n",
      "|              Travel|       1.0|\n",
      "|              Travel|       1.0|\n",
      "|              Travel|       1.0|\n",
      "|              Travel|       1.0|\n",
      "|              Travel|       1.0|\n",
      "|              Travel|       1.0|\n",
      "| Computer - Software|       2.0|\n",
      "| Computer - Software|       2.0|\n",
      "| Computer - Software|       2.0|\n",
      "| Computer - Hardware|       3.0|\n",
      "| Computer - Hardware|       3.0|\n",
      "|Meals and Enterta...|       0.0|\n",
      "|Meals and Enterta...|       0.0|\n",
      "|Meals and Enterta...|       0.0|\n",
      "|Meals and Enterta...|       0.0|\n",
      "+--------------------+----------+\n",
      "only showing top 20 rows\n",
      "\n",
      "+--------------------+----------+\n",
      "|            category|prediction|\n",
      "+--------------------+----------+\n",
      "|Meals and Enterta...|       0.0|\n",
      "|Meals and Enterta...|       0.0|\n",
      "|Meals and Enterta...|       0.0|\n",
      "|Meals and Enterta...|       4.0|\n",
      "|Meals and Enterta...|       0.0|\n",
      "| Computer - Software|       2.0|\n",
      "| Computer - Hardware|       3.0|\n",
      "|     Office Supplies|       0.0|\n",
      "|Meals and Enterta...|       0.0|\n",
      "|Meals and Enterta...|       4.0|\n",
      "|              Travel|       1.0|\n",
      "|     Office Supplies|       4.0|\n",
      "+--------------------+----------+\n",
      "\n",
      "Train accuracy = 1.00 \n",
      "Validation accuracy = 0.75\n"
     ]
    }
   ],
   "source": [
    "for key, value in models.items():\n",
    "    print(\"\\nClassification results using -> {0}\".format(key))\n",
    "    model = value\n",
    "    model = model.fit(train)\n",
    "    predictions_train = model.transform(train)\n",
    "    predictions_validation = model.transform(validation)\n",
    "    predictions_train.select('category','prediction').show()\n",
    "    predictions_validation.select('category','prediction').show()\n",
    "    \n",
    "    \n",
    "    train_acc = evaluator.evaluate(predictions_train)\n",
    "    validation_acc = evaluator.evaluate(predictions_validation)\n",
    "    print(\"Train accuracy = {0:.2f} \\nValidation accuracy = {1:.2f}\".format(train_acc, validation_acc))\n",
    "\n",
    "    \n",
    "    \n"
   ]
  }
 ],
 "metadata": {
  "kernelspec": {
   "display_name": "Python 3",
   "language": "python",
   "name": "python3"
  },
  "language_info": {
   "codemirror_mode": {
    "name": "ipython",
    "version": 3
   },
   "file_extension": ".py",
   "mimetype": "text/x-python",
   "name": "python",
   "nbconvert_exporter": "python",
   "pygments_lexer": "ipython3",
   "version": "3.6.5"
  }
 },
 "nbformat": 4,
 "nbformat_minor": 2
}
