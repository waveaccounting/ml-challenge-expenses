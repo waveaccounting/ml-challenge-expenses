{
 "cells": [
  {
   "cell_type": "code",
   "execution_count": 1,
   "metadata": {},
   "outputs": [
    {
     "name": "stdout",
     "output_type": "stream",
     "text": [
      "Requirement already satisfied: numpy in /Users/mabbas/tf3/lib/python3.6/site-packages\n",
      "Requirement already satisfied: pandas in /Users/mabbas/tf3/lib/python3.6/site-packages\n",
      "Requirement already satisfied: numpy>=1.9.0 in /Users/mabbas/tf3/lib/python3.6/site-packages (from pandas)\n",
      "Requirement already satisfied: pytz>=2011k in /Users/mabbas/tf3/lib/python3.6/site-packages (from pandas)\n",
      "Requirement already satisfied: python-dateutil>=2 in /Users/mabbas/tf3/lib/python3.6/site-packages (from pandas)\n",
      "Requirement already satisfied: six>=1.5 in /Users/mabbas/tf3/lib/python3.6/site-packages (from python-dateutil>=2->pandas)\n"
     ]
    }
   ],
   "source": [
    "# Install dependencies if not already installed (May need to restart kernel)\n",
    "!pip install numpy\n",
    "!pip install pandas"
   ]
  },
  {
   "cell_type": "code",
   "execution_count": 2,
   "metadata": {},
   "outputs": [],
   "source": [
    "# Uncomment at development time, for automatically reloading app_utils\n",
    "#%load_ext autoreload\n",
    "#%autoreload 2"
   ]
  },
  {
   "cell_type": "code",
   "execution_count": 3,
   "metadata": {},
   "outputs": [
    {
     "name": "stderr",
     "output_type": "stream",
     "text": [
      "/Users/mabbas/tf3/lib/python3.6/site-packages/h5py/__init__.py:34: FutureWarning: Conversion of the second argument of issubdtype from `float` to `np.floating` is deprecated. In future, it will be treated as `np.float64 == np.dtype(float).type`.\n",
      "  from ._conv import register_converters as _register_converters\n",
      "Using TensorFlow backend.\n"
     ]
    }
   ],
   "source": [
    "import app_utils as u\n",
    "#For reload at development time\n",
    "from imp import reload\n",
    "reload(u);"
   ]
  },
  {
   "cell_type": "code",
   "execution_count": 4,
   "metadata": {},
   "outputs": [],
   "source": [
    "# Read all data and find unique categories\n",
    "df_train,df_val,categories = u.read_data()"
   ]
  },
  {
   "cell_type": "code",
   "execution_count": 5,
   "metadata": {},
   "outputs": [],
   "source": [
    "# Read glove 50d embeddings\n",
    "embeddings,word_index = u.load_embeddings()"
   ]
  },
  {
   "cell_type": "code",
   "execution_count": 6,
   "metadata": {},
   "outputs": [],
   "source": [
    "#Calculate category embeddings as sum of embeddings of individual words (normalized)\n",
    "category_embeddings = u.get_category_embeddings(categories,word_index,embeddings)"
   ]
  },
  {
   "cell_type": "code",
   "execution_count": 7,
   "metadata": {},
   "outputs": [],
   "source": [
    "# Define a local method to make it easy to calculate category given the expense\n",
    "def get_category(expense):\n",
    "    return u.get_category(expense,word_index,embeddings,categories,category_embeddings)"
   ]
  },
  {
   "cell_type": "code",
   "execution_count": 8,
   "metadata": {},
   "outputs": [
    {
     "name": "stdout",
     "output_type": "stream",
     "text": [
      "Overall Accuracy: 0.75\n",
      "Meals and Entertainment --> Precision:0.769,Recall:1.0,F1:0.869\n",
      "Computer - Software --> Precision:0.25,Recall:0.25,F1:0.25\n",
      "Office Supplies --> Precision:nan,Recall:0.0,F1:nan\n",
      "Computer - Hardware --> Precision:1.0,Recall:0.333,F1:0.5\n",
      "Travel --> Precision:1.0,Recall:1.0,F1:1.0\n",
      "\n",
      "Averages---> Precision:0.755, Recall:0.517, F1:0.655\n",
      "\n",
      "Confusion Matrix\n",
      "\n",
      "Meals and Entertainment(10) --> Meals and Entertainment(10) , Computer - Software(0) , Office Supplies(0) , Computer - Hardware(0) , Travel(0) , \n",
      "Computer - Software(4) --> Meals and Entertainment(3) , Computer - Software(1) , Office Supplies(0) , Computer - Hardware(0) , Travel(0) , \n",
      "Office Supplies(1) --> Meals and Entertainment(0) , Computer - Software(1) , Office Supplies(0) , Computer - Hardware(0) , Travel(0) , \n",
      "Computer - Hardware(3) --> Meals and Entertainment(0) , Computer - Software(2) , Office Supplies(0) , Computer - Hardware(1) , Travel(0) , \n",
      "Travel(6) --> Meals and Entertainment(0) , Computer - Software(0) , Office Supplies(0) , Computer - Hardware(0) , Travel(6) , \n"
     ]
    }
   ],
   "source": [
    "# Analyze how well we do for the training set\n",
    "train_predictions = df_train.apply(lambda row:get_category(row['expense description']),axis=1).values\n",
    "u.analyze_predictions(categories,df_train['category'].values,train_predictions)"
   ]
  },
  {
   "cell_type": "code",
   "execution_count": 9,
   "metadata": {},
   "outputs": [
    {
     "name": "stdout",
     "output_type": "stream",
     "text": [
      "Overall Accuracy: 0.75\n",
      "Meals and Entertainment --> Precision:1.0,Recall:1.0,F1:1.0\n",
      "Computer - Software --> Precision:0.0,Recall:nan,F1:nan\n",
      "Office Supplies --> Precision:0.0,Recall:0.0,F1:nan\n",
      "Computer - Hardware --> Precision:0.5,Recall:1.0,F1:0.667\n",
      "Travel --> Precision:1.0,Recall:0.5,F1:0.667\n",
      "\n",
      "Averages---> Precision:0.5, Recall:0.625, F1:0.778\n",
      "\n",
      "Confusion Matrix\n",
      "\n",
      "Meals and Entertainment(7) --> Meals and Entertainment(7) , Computer - Software(0) , Office Supplies(0) , Computer - Hardware(0) , Travel(0) , \n",
      "Computer - Software(0) --> Meals and Entertainment(0) , Computer - Software(0) , Office Supplies(0) , Computer - Hardware(0) , Travel(0) , \n",
      "Office Supplies(2) --> Meals and Entertainment(0) , Computer - Software(1) , Office Supplies(0) , Computer - Hardware(1) , Travel(0) , \n",
      "Computer - Hardware(1) --> Meals and Entertainment(0) , Computer - Software(0) , Office Supplies(0) , Computer - Hardware(1) , Travel(0) , \n",
      "Travel(2) --> Meals and Entertainment(0) , Computer - Software(0) , Office Supplies(1) , Computer - Hardware(0) , Travel(1) , \n"
     ]
    }
   ],
   "source": [
    "# Analyze how well we do for the validations set\n",
    "val_predictions = df_val.apply(lambda row:get_category(row['expense description']),axis=1).values\n",
    "u.analyze_predictions(categories,df_val['category'].values,val_predictions)"
   ]
  },
  {
   "cell_type": "code",
   "execution_count": 10,
   "metadata": {},
   "outputs": [],
   "source": [
    "# The F1 value above seems off because of eliminating nans (maybe nans should be reported or considered 0)"
   ]
  },
  {
   "cell_type": "code",
   "execution_count": null,
   "metadata": {},
   "outputs": [],
   "source": []
  }
 ],
 "metadata": {
  "kernelspec": {
   "display_name": "Python 3",
   "language": "python",
   "name": "python3"
  },
  "language_info": {
   "codemirror_mode": {
    "name": "ipython",
    "version": 3
   },
   "file_extension": ".py",
   "mimetype": "text/x-python",
   "name": "python",
   "nbconvert_exporter": "python",
   "pygments_lexer": "ipython3",
   "version": "3.6.1"
  }
 },
 "nbformat": 4,
 "nbformat_minor": 2
}
